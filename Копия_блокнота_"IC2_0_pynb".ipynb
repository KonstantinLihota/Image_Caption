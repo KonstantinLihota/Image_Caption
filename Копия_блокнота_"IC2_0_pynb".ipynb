{
  "nbformat": 4,
  "nbformat_minor": 0,
  "metadata": {
    "colab": {
      "name": "Копия блокнота \"IC2.0.pynb\"",
      "provenance": [],
      "include_colab_link": true
    },
    "kernelspec": {
      "name": "python3",
      "display_name": "Python 3"
    },
    "language_info": {
      "name": "python"
    },
    "accelerator": "GPU",
    "widgets": {
      "application/vnd.jupyter.widget-state+json": {
        "d0a990582df146709ff2a5a3d7e80c2c": {
          "model_module": "@jupyter-widgets/controls",
          "model_name": "HBoxModel",
          "model_module_version": "1.5.0",
          "state": {
            "_view_name": "HBoxView",
            "_dom_classes": [],
            "_model_name": "HBoxModel",
            "_view_module": "@jupyter-widgets/controls",
            "_model_module_version": "1.5.0",
            "_view_count": null,
            "_view_module_version": "1.5.0",
            "box_style": "",
            "layout": "IPY_MODEL_652db604fdb9434d87f53fc40c3eec26",
            "_model_module": "@jupyter-widgets/controls",
            "children": [
              "IPY_MODEL_5dafda041ef74b5f90f1b4f2bb024faa",
              "IPY_MODEL_f4b4e95afc1c458ea91b507450eaa8e6",
              "IPY_MODEL_1b383d13f9984702bdc747d5318d082a"
            ]
          }
        },
        "652db604fdb9434d87f53fc40c3eec26": {
          "model_module": "@jupyter-widgets/base",
          "model_name": "LayoutModel",
          "model_module_version": "1.2.0",
          "state": {
            "_view_name": "LayoutView",
            "grid_template_rows": null,
            "right": null,
            "justify_content": null,
            "_view_module": "@jupyter-widgets/base",
            "overflow": null,
            "_model_module_version": "1.2.0",
            "_view_count": null,
            "flex_flow": null,
            "width": null,
            "min_width": null,
            "border": null,
            "align_items": null,
            "bottom": null,
            "_model_module": "@jupyter-widgets/base",
            "top": null,
            "grid_column": null,
            "overflow_y": null,
            "overflow_x": null,
            "grid_auto_flow": null,
            "grid_area": null,
            "grid_template_columns": null,
            "flex": null,
            "_model_name": "LayoutModel",
            "justify_items": null,
            "grid_row": null,
            "max_height": null,
            "align_content": null,
            "visibility": null,
            "align_self": null,
            "height": null,
            "min_height": null,
            "padding": null,
            "grid_auto_rows": null,
            "grid_gap": null,
            "max_width": null,
            "order": null,
            "_view_module_version": "1.2.0",
            "grid_template_areas": null,
            "object_position": null,
            "object_fit": null,
            "grid_auto_columns": null,
            "margin": null,
            "display": null,
            "left": null
          }
        },
        "5dafda041ef74b5f90f1b4f2bb024faa": {
          "model_module": "@jupyter-widgets/controls",
          "model_name": "HTMLModel",
          "model_module_version": "1.5.0",
          "state": {
            "_view_name": "HTMLView",
            "style": "IPY_MODEL_146570e5cda54b5a99bbf660e8003909",
            "_dom_classes": [],
            "description": "",
            "_model_name": "HTMLModel",
            "placeholder": "​",
            "_view_module": "@jupyter-widgets/controls",
            "_model_module_version": "1.5.0",
            "value": "Downloading: 100%",
            "_view_count": null,
            "_view_module_version": "1.5.0",
            "description_tooltip": null,
            "_model_module": "@jupyter-widgets/controls",
            "layout": "IPY_MODEL_e6a69ad7f0e3409fae2cfece5c4a296e"
          }
        },
        "f4b4e95afc1c458ea91b507450eaa8e6": {
          "model_module": "@jupyter-widgets/controls",
          "model_name": "FloatProgressModel",
          "model_module_version": "1.5.0",
          "state": {
            "_view_name": "ProgressView",
            "style": "IPY_MODEL_b6fe9ae9c92b42e595f11fed11203efb",
            "_dom_classes": [],
            "description": "",
            "_model_name": "FloatProgressModel",
            "bar_style": "success",
            "max": 231508,
            "_view_module": "@jupyter-widgets/controls",
            "_model_module_version": "1.5.0",
            "value": 231508,
            "_view_count": null,
            "_view_module_version": "1.5.0",
            "orientation": "horizontal",
            "min": 0,
            "description_tooltip": null,
            "_model_module": "@jupyter-widgets/controls",
            "layout": "IPY_MODEL_7e8925de1e2e4c8dbd32e24381d5882f"
          }
        },
        "1b383d13f9984702bdc747d5318d082a": {
          "model_module": "@jupyter-widgets/controls",
          "model_name": "HTMLModel",
          "model_module_version": "1.5.0",
          "state": {
            "_view_name": "HTMLView",
            "style": "IPY_MODEL_c98e56c02f4140dea02c33b08845b27a",
            "_dom_classes": [],
            "description": "",
            "_model_name": "HTMLModel",
            "placeholder": "​",
            "_view_module": "@jupyter-widgets/controls",
            "_model_module_version": "1.5.0",
            "value": " 232k/232k [00:00&lt;00:00, 1.01MB/s]",
            "_view_count": null,
            "_view_module_version": "1.5.0",
            "description_tooltip": null,
            "_model_module": "@jupyter-widgets/controls",
            "layout": "IPY_MODEL_81593e0bece846638522785745d1f2fc"
          }
        },
        "146570e5cda54b5a99bbf660e8003909": {
          "model_module": "@jupyter-widgets/controls",
          "model_name": "DescriptionStyleModel",
          "model_module_version": "1.5.0",
          "state": {
            "_view_name": "StyleView",
            "_model_name": "DescriptionStyleModel",
            "description_width": "",
            "_view_module": "@jupyter-widgets/base",
            "_model_module_version": "1.5.0",
            "_view_count": null,
            "_view_module_version": "1.2.0",
            "_model_module": "@jupyter-widgets/controls"
          }
        },
        "e6a69ad7f0e3409fae2cfece5c4a296e": {
          "model_module": "@jupyter-widgets/base",
          "model_name": "LayoutModel",
          "model_module_version": "1.2.0",
          "state": {
            "_view_name": "LayoutView",
            "grid_template_rows": null,
            "right": null,
            "justify_content": null,
            "_view_module": "@jupyter-widgets/base",
            "overflow": null,
            "_model_module_version": "1.2.0",
            "_view_count": null,
            "flex_flow": null,
            "width": null,
            "min_width": null,
            "border": null,
            "align_items": null,
            "bottom": null,
            "_model_module": "@jupyter-widgets/base",
            "top": null,
            "grid_column": null,
            "overflow_y": null,
            "overflow_x": null,
            "grid_auto_flow": null,
            "grid_area": null,
            "grid_template_columns": null,
            "flex": null,
            "_model_name": "LayoutModel",
            "justify_items": null,
            "grid_row": null,
            "max_height": null,
            "align_content": null,
            "visibility": null,
            "align_self": null,
            "height": null,
            "min_height": null,
            "padding": null,
            "grid_auto_rows": null,
            "grid_gap": null,
            "max_width": null,
            "order": null,
            "_view_module_version": "1.2.0",
            "grid_template_areas": null,
            "object_position": null,
            "object_fit": null,
            "grid_auto_columns": null,
            "margin": null,
            "display": null,
            "left": null
          }
        },
        "b6fe9ae9c92b42e595f11fed11203efb": {
          "model_module": "@jupyter-widgets/controls",
          "model_name": "ProgressStyleModel",
          "model_module_version": "1.5.0",
          "state": {
            "_view_name": "StyleView",
            "_model_name": "ProgressStyleModel",
            "description_width": "",
            "_view_module": "@jupyter-widgets/base",
            "_model_module_version": "1.5.0",
            "_view_count": null,
            "_view_module_version": "1.2.0",
            "bar_color": null,
            "_model_module": "@jupyter-widgets/controls"
          }
        },
        "7e8925de1e2e4c8dbd32e24381d5882f": {
          "model_module": "@jupyter-widgets/base",
          "model_name": "LayoutModel",
          "model_module_version": "1.2.0",
          "state": {
            "_view_name": "LayoutView",
            "grid_template_rows": null,
            "right": null,
            "justify_content": null,
            "_view_module": "@jupyter-widgets/base",
            "overflow": null,
            "_model_module_version": "1.2.0",
            "_view_count": null,
            "flex_flow": null,
            "width": null,
            "min_width": null,
            "border": null,
            "align_items": null,
            "bottom": null,
            "_model_module": "@jupyter-widgets/base",
            "top": null,
            "grid_column": null,
            "overflow_y": null,
            "overflow_x": null,
            "grid_auto_flow": null,
            "grid_area": null,
            "grid_template_columns": null,
            "flex": null,
            "_model_name": "LayoutModel",
            "justify_items": null,
            "grid_row": null,
            "max_height": null,
            "align_content": null,
            "visibility": null,
            "align_self": null,
            "height": null,
            "min_height": null,
            "padding": null,
            "grid_auto_rows": null,
            "grid_gap": null,
            "max_width": null,
            "order": null,
            "_view_module_version": "1.2.0",
            "grid_template_areas": null,
            "object_position": null,
            "object_fit": null,
            "grid_auto_columns": null,
            "margin": null,
            "display": null,
            "left": null
          }
        },
        "c98e56c02f4140dea02c33b08845b27a": {
          "model_module": "@jupyter-widgets/controls",
          "model_name": "DescriptionStyleModel",
          "model_module_version": "1.5.0",
          "state": {
            "_view_name": "StyleView",
            "_model_name": "DescriptionStyleModel",
            "description_width": "",
            "_view_module": "@jupyter-widgets/base",
            "_model_module_version": "1.5.0",
            "_view_count": null,
            "_view_module_version": "1.2.0",
            "_model_module": "@jupyter-widgets/controls"
          }
        },
        "81593e0bece846638522785745d1f2fc": {
          "model_module": "@jupyter-widgets/base",
          "model_name": "LayoutModel",
          "model_module_version": "1.2.0",
          "state": {
            "_view_name": "LayoutView",
            "grid_template_rows": null,
            "right": null,
            "justify_content": null,
            "_view_module": "@jupyter-widgets/base",
            "overflow": null,
            "_model_module_version": "1.2.0",
            "_view_count": null,
            "flex_flow": null,
            "width": null,
            "min_width": null,
            "border": null,
            "align_items": null,
            "bottom": null,
            "_model_module": "@jupyter-widgets/base",
            "top": null,
            "grid_column": null,
            "overflow_y": null,
            "overflow_x": null,
            "grid_auto_flow": null,
            "grid_area": null,
            "grid_template_columns": null,
            "flex": null,
            "_model_name": "LayoutModel",
            "justify_items": null,
            "grid_row": null,
            "max_height": null,
            "align_content": null,
            "visibility": null,
            "align_self": null,
            "height": null,
            "min_height": null,
            "padding": null,
            "grid_auto_rows": null,
            "grid_gap": null,
            "max_width": null,
            "order": null,
            "_view_module_version": "1.2.0",
            "grid_template_areas": null,
            "object_position": null,
            "object_fit": null,
            "grid_auto_columns": null,
            "margin": null,
            "display": null,
            "left": null
          }
        },
        "685eb090aa15471c8ade90d7c886ab58": {
          "model_module": "@jupyter-widgets/controls",
          "model_name": "HBoxModel",
          "model_module_version": "1.5.0",
          "state": {
            "_view_name": "HBoxView",
            "_dom_classes": [],
            "_model_name": "HBoxModel",
            "_view_module": "@jupyter-widgets/controls",
            "_model_module_version": "1.5.0",
            "_view_count": null,
            "_view_module_version": "1.5.0",
            "box_style": "",
            "layout": "IPY_MODEL_30583294c6194a8f8058293ef040ad78",
            "_model_module": "@jupyter-widgets/controls",
            "children": [
              "IPY_MODEL_597aa4b2df8c4b95a8c0d4eac2289c83",
              "IPY_MODEL_15dc389ca7ad45288d28be144d201e47",
              "IPY_MODEL_2c1bc2f7583942ae9858d4fe941671bc"
            ]
          }
        },
        "30583294c6194a8f8058293ef040ad78": {
          "model_module": "@jupyter-widgets/base",
          "model_name": "LayoutModel",
          "model_module_version": "1.2.0",
          "state": {
            "_view_name": "LayoutView",
            "grid_template_rows": null,
            "right": null,
            "justify_content": null,
            "_view_module": "@jupyter-widgets/base",
            "overflow": null,
            "_model_module_version": "1.2.0",
            "_view_count": null,
            "flex_flow": null,
            "width": null,
            "min_width": null,
            "border": null,
            "align_items": null,
            "bottom": null,
            "_model_module": "@jupyter-widgets/base",
            "top": null,
            "grid_column": null,
            "overflow_y": null,
            "overflow_x": null,
            "grid_auto_flow": null,
            "grid_area": null,
            "grid_template_columns": null,
            "flex": null,
            "_model_name": "LayoutModel",
            "justify_items": null,
            "grid_row": null,
            "max_height": null,
            "align_content": null,
            "visibility": null,
            "align_self": null,
            "height": null,
            "min_height": null,
            "padding": null,
            "grid_auto_rows": null,
            "grid_gap": null,
            "max_width": null,
            "order": null,
            "_view_module_version": "1.2.0",
            "grid_template_areas": null,
            "object_position": null,
            "object_fit": null,
            "grid_auto_columns": null,
            "margin": null,
            "display": null,
            "left": null
          }
        },
        "597aa4b2df8c4b95a8c0d4eac2289c83": {
          "model_module": "@jupyter-widgets/controls",
          "model_name": "HTMLModel",
          "model_module_version": "1.5.0",
          "state": {
            "_view_name": "HTMLView",
            "style": "IPY_MODEL_e0b685e8f00b40f58edf33224e0790bf",
            "_dom_classes": [],
            "description": "",
            "_model_name": "HTMLModel",
            "placeholder": "​",
            "_view_module": "@jupyter-widgets/controls",
            "_model_module_version": "1.5.0",
            "value": "Downloading: 100%",
            "_view_count": null,
            "_view_module_version": "1.5.0",
            "description_tooltip": null,
            "_model_module": "@jupyter-widgets/controls",
            "layout": "IPY_MODEL_2eb8a40e283b404f8f4e293c091dade8"
          }
        },
        "15dc389ca7ad45288d28be144d201e47": {
          "model_module": "@jupyter-widgets/controls",
          "model_name": "FloatProgressModel",
          "model_module_version": "1.5.0",
          "state": {
            "_view_name": "ProgressView",
            "style": "IPY_MODEL_0ccd256c682a461489c8fdc8c63d092e",
            "_dom_classes": [],
            "description": "",
            "_model_name": "FloatProgressModel",
            "bar_style": "success",
            "max": 28,
            "_view_module": "@jupyter-widgets/controls",
            "_model_module_version": "1.5.0",
            "value": 28,
            "_view_count": null,
            "_view_module_version": "1.5.0",
            "orientation": "horizontal",
            "min": 0,
            "description_tooltip": null,
            "_model_module": "@jupyter-widgets/controls",
            "layout": "IPY_MODEL_341e02734b764f89a72cb4d330848faa"
          }
        },
        "2c1bc2f7583942ae9858d4fe941671bc": {
          "model_module": "@jupyter-widgets/controls",
          "model_name": "HTMLModel",
          "model_module_version": "1.5.0",
          "state": {
            "_view_name": "HTMLView",
            "style": "IPY_MODEL_bd3c44c2b4fe42579e51ca8d22dc866a",
            "_dom_classes": [],
            "description": "",
            "_model_name": "HTMLModel",
            "placeholder": "​",
            "_view_module": "@jupyter-widgets/controls",
            "_model_module_version": "1.5.0",
            "value": " 28.0/28.0 [00:00&lt;00:00, 674B/s]",
            "_view_count": null,
            "_view_module_version": "1.5.0",
            "description_tooltip": null,
            "_model_module": "@jupyter-widgets/controls",
            "layout": "IPY_MODEL_14c27c5a30c34def80a1248faf72065e"
          }
        },
        "e0b685e8f00b40f58edf33224e0790bf": {
          "model_module": "@jupyter-widgets/controls",
          "model_name": "DescriptionStyleModel",
          "model_module_version": "1.5.0",
          "state": {
            "_view_name": "StyleView",
            "_model_name": "DescriptionStyleModel",
            "description_width": "",
            "_view_module": "@jupyter-widgets/base",
            "_model_module_version": "1.5.0",
            "_view_count": null,
            "_view_module_version": "1.2.0",
            "_model_module": "@jupyter-widgets/controls"
          }
        },
        "2eb8a40e283b404f8f4e293c091dade8": {
          "model_module": "@jupyter-widgets/base",
          "model_name": "LayoutModel",
          "model_module_version": "1.2.0",
          "state": {
            "_view_name": "LayoutView",
            "grid_template_rows": null,
            "right": null,
            "justify_content": null,
            "_view_module": "@jupyter-widgets/base",
            "overflow": null,
            "_model_module_version": "1.2.0",
            "_view_count": null,
            "flex_flow": null,
            "width": null,
            "min_width": null,
            "border": null,
            "align_items": null,
            "bottom": null,
            "_model_module": "@jupyter-widgets/base",
            "top": null,
            "grid_column": null,
            "overflow_y": null,
            "overflow_x": null,
            "grid_auto_flow": null,
            "grid_area": null,
            "grid_template_columns": null,
            "flex": null,
            "_model_name": "LayoutModel",
            "justify_items": null,
            "grid_row": null,
            "max_height": null,
            "align_content": null,
            "visibility": null,
            "align_self": null,
            "height": null,
            "min_height": null,
            "padding": null,
            "grid_auto_rows": null,
            "grid_gap": null,
            "max_width": null,
            "order": null,
            "_view_module_version": "1.2.0",
            "grid_template_areas": null,
            "object_position": null,
            "object_fit": null,
            "grid_auto_columns": null,
            "margin": null,
            "display": null,
            "left": null
          }
        },
        "0ccd256c682a461489c8fdc8c63d092e": {
          "model_module": "@jupyter-widgets/controls",
          "model_name": "ProgressStyleModel",
          "model_module_version": "1.5.0",
          "state": {
            "_view_name": "StyleView",
            "_model_name": "ProgressStyleModel",
            "description_width": "",
            "_view_module": "@jupyter-widgets/base",
            "_model_module_version": "1.5.0",
            "_view_count": null,
            "_view_module_version": "1.2.0",
            "bar_color": null,
            "_model_module": "@jupyter-widgets/controls"
          }
        },
        "341e02734b764f89a72cb4d330848faa": {
          "model_module": "@jupyter-widgets/base",
          "model_name": "LayoutModel",
          "model_module_version": "1.2.0",
          "state": {
            "_view_name": "LayoutView",
            "grid_template_rows": null,
            "right": null,
            "justify_content": null,
            "_view_module": "@jupyter-widgets/base",
            "overflow": null,
            "_model_module_version": "1.2.0",
            "_view_count": null,
            "flex_flow": null,
            "width": null,
            "min_width": null,
            "border": null,
            "align_items": null,
            "bottom": null,
            "_model_module": "@jupyter-widgets/base",
            "top": null,
            "grid_column": null,
            "overflow_y": null,
            "overflow_x": null,
            "grid_auto_flow": null,
            "grid_area": null,
            "grid_template_columns": null,
            "flex": null,
            "_model_name": "LayoutModel",
            "justify_items": null,
            "grid_row": null,
            "max_height": null,
            "align_content": null,
            "visibility": null,
            "align_self": null,
            "height": null,
            "min_height": null,
            "padding": null,
            "grid_auto_rows": null,
            "grid_gap": null,
            "max_width": null,
            "order": null,
            "_view_module_version": "1.2.0",
            "grid_template_areas": null,
            "object_position": null,
            "object_fit": null,
            "grid_auto_columns": null,
            "margin": null,
            "display": null,
            "left": null
          }
        },
        "bd3c44c2b4fe42579e51ca8d22dc866a": {
          "model_module": "@jupyter-widgets/controls",
          "model_name": "DescriptionStyleModel",
          "model_module_version": "1.5.0",
          "state": {
            "_view_name": "StyleView",
            "_model_name": "DescriptionStyleModel",
            "description_width": "",
            "_view_module": "@jupyter-widgets/base",
            "_model_module_version": "1.5.0",
            "_view_count": null,
            "_view_module_version": "1.2.0",
            "_model_module": "@jupyter-widgets/controls"
          }
        },
        "14c27c5a30c34def80a1248faf72065e": {
          "model_module": "@jupyter-widgets/base",
          "model_name": "LayoutModel",
          "model_module_version": "1.2.0",
          "state": {
            "_view_name": "LayoutView",
            "grid_template_rows": null,
            "right": null,
            "justify_content": null,
            "_view_module": "@jupyter-widgets/base",
            "overflow": null,
            "_model_module_version": "1.2.0",
            "_view_count": null,
            "flex_flow": null,
            "width": null,
            "min_width": null,
            "border": null,
            "align_items": null,
            "bottom": null,
            "_model_module": "@jupyter-widgets/base",
            "top": null,
            "grid_column": null,
            "overflow_y": null,
            "overflow_x": null,
            "grid_auto_flow": null,
            "grid_area": null,
            "grid_template_columns": null,
            "flex": null,
            "_model_name": "LayoutModel",
            "justify_items": null,
            "grid_row": null,
            "max_height": null,
            "align_content": null,
            "visibility": null,
            "align_self": null,
            "height": null,
            "min_height": null,
            "padding": null,
            "grid_auto_rows": null,
            "grid_gap": null,
            "max_width": null,
            "order": null,
            "_view_module_version": "1.2.0",
            "grid_template_areas": null,
            "object_position": null,
            "object_fit": null,
            "grid_auto_columns": null,
            "margin": null,
            "display": null,
            "left": null
          }
        },
        "7e6a04c882354cd8b68bae1e040999b6": {
          "model_module": "@jupyter-widgets/controls",
          "model_name": "HBoxModel",
          "model_module_version": "1.5.0",
          "state": {
            "_view_name": "HBoxView",
            "_dom_classes": [],
            "_model_name": "HBoxModel",
            "_view_module": "@jupyter-widgets/controls",
            "_model_module_version": "1.5.0",
            "_view_count": null,
            "_view_module_version": "1.5.0",
            "box_style": "",
            "layout": "IPY_MODEL_97cd114002cf47889b80224cd1a4c721",
            "_model_module": "@jupyter-widgets/controls",
            "children": [
              "IPY_MODEL_e99ebabc05b04d33967c31974213e26b",
              "IPY_MODEL_56d1a7b5259e4918905635af2a2fa98e",
              "IPY_MODEL_0077a1b60d89446fb094940f604e885b"
            ]
          }
        },
        "97cd114002cf47889b80224cd1a4c721": {
          "model_module": "@jupyter-widgets/base",
          "model_name": "LayoutModel",
          "model_module_version": "1.2.0",
          "state": {
            "_view_name": "LayoutView",
            "grid_template_rows": null,
            "right": null,
            "justify_content": null,
            "_view_module": "@jupyter-widgets/base",
            "overflow": null,
            "_model_module_version": "1.2.0",
            "_view_count": null,
            "flex_flow": null,
            "width": null,
            "min_width": null,
            "border": null,
            "align_items": null,
            "bottom": null,
            "_model_module": "@jupyter-widgets/base",
            "top": null,
            "grid_column": null,
            "overflow_y": null,
            "overflow_x": null,
            "grid_auto_flow": null,
            "grid_area": null,
            "grid_template_columns": null,
            "flex": null,
            "_model_name": "LayoutModel",
            "justify_items": null,
            "grid_row": null,
            "max_height": null,
            "align_content": null,
            "visibility": null,
            "align_self": null,
            "height": null,
            "min_height": null,
            "padding": null,
            "grid_auto_rows": null,
            "grid_gap": null,
            "max_width": null,
            "order": null,
            "_view_module_version": "1.2.0",
            "grid_template_areas": null,
            "object_position": null,
            "object_fit": null,
            "grid_auto_columns": null,
            "margin": null,
            "display": null,
            "left": null
          }
        },
        "e99ebabc05b04d33967c31974213e26b": {
          "model_module": "@jupyter-widgets/controls",
          "model_name": "HTMLModel",
          "model_module_version": "1.5.0",
          "state": {
            "_view_name": "HTMLView",
            "style": "IPY_MODEL_0493b4abbcaf4217955225ca17e778db",
            "_dom_classes": [],
            "description": "",
            "_model_name": "HTMLModel",
            "placeholder": "​",
            "_view_module": "@jupyter-widgets/controls",
            "_model_module_version": "1.5.0",
            "value": "Downloading: 100%",
            "_view_count": null,
            "_view_module_version": "1.5.0",
            "description_tooltip": null,
            "_model_module": "@jupyter-widgets/controls",
            "layout": "IPY_MODEL_3894e282969b4616a7034649eafac4a5"
          }
        },
        "56d1a7b5259e4918905635af2a2fa98e": {
          "model_module": "@jupyter-widgets/controls",
          "model_name": "FloatProgressModel",
          "model_module_version": "1.5.0",
          "state": {
            "_view_name": "ProgressView",
            "style": "IPY_MODEL_7a600465799747739073e5b2afe449c6",
            "_dom_classes": [],
            "description": "",
            "_model_name": "FloatProgressModel",
            "bar_style": "success",
            "max": 466062,
            "_view_module": "@jupyter-widgets/controls",
            "_model_module_version": "1.5.0",
            "value": 466062,
            "_view_count": null,
            "_view_module_version": "1.5.0",
            "orientation": "horizontal",
            "min": 0,
            "description_tooltip": null,
            "_model_module": "@jupyter-widgets/controls",
            "layout": "IPY_MODEL_9b639a801c1b40b2b48e95b61218821f"
          }
        },
        "0077a1b60d89446fb094940f604e885b": {
          "model_module": "@jupyter-widgets/controls",
          "model_name": "HTMLModel",
          "model_module_version": "1.5.0",
          "state": {
            "_view_name": "HTMLView",
            "style": "IPY_MODEL_194093e9b31b4198aac01e06af047925",
            "_dom_classes": [],
            "description": "",
            "_model_name": "HTMLModel",
            "placeholder": "​",
            "_view_module": "@jupyter-widgets/controls",
            "_model_module_version": "1.5.0",
            "value": " 466k/466k [00:00&lt;00:00, 933kB/s]",
            "_view_count": null,
            "_view_module_version": "1.5.0",
            "description_tooltip": null,
            "_model_module": "@jupyter-widgets/controls",
            "layout": "IPY_MODEL_ddf321ae93464faa8ae8d43d85ed315e"
          }
        },
        "0493b4abbcaf4217955225ca17e778db": {
          "model_module": "@jupyter-widgets/controls",
          "model_name": "DescriptionStyleModel",
          "model_module_version": "1.5.0",
          "state": {
            "_view_name": "StyleView",
            "_model_name": "DescriptionStyleModel",
            "description_width": "",
            "_view_module": "@jupyter-widgets/base",
            "_model_module_version": "1.5.0",
            "_view_count": null,
            "_view_module_version": "1.2.0",
            "_model_module": "@jupyter-widgets/controls"
          }
        },
        "3894e282969b4616a7034649eafac4a5": {
          "model_module": "@jupyter-widgets/base",
          "model_name": "LayoutModel",
          "model_module_version": "1.2.0",
          "state": {
            "_view_name": "LayoutView",
            "grid_template_rows": null,
            "right": null,
            "justify_content": null,
            "_view_module": "@jupyter-widgets/base",
            "overflow": null,
            "_model_module_version": "1.2.0",
            "_view_count": null,
            "flex_flow": null,
            "width": null,
            "min_width": null,
            "border": null,
            "align_items": null,
            "bottom": null,
            "_model_module": "@jupyter-widgets/base",
            "top": null,
            "grid_column": null,
            "overflow_y": null,
            "overflow_x": null,
            "grid_auto_flow": null,
            "grid_area": null,
            "grid_template_columns": null,
            "flex": null,
            "_model_name": "LayoutModel",
            "justify_items": null,
            "grid_row": null,
            "max_height": null,
            "align_content": null,
            "visibility": null,
            "align_self": null,
            "height": null,
            "min_height": null,
            "padding": null,
            "grid_auto_rows": null,
            "grid_gap": null,
            "max_width": null,
            "order": null,
            "_view_module_version": "1.2.0",
            "grid_template_areas": null,
            "object_position": null,
            "object_fit": null,
            "grid_auto_columns": null,
            "margin": null,
            "display": null,
            "left": null
          }
        },
        "7a600465799747739073e5b2afe449c6": {
          "model_module": "@jupyter-widgets/controls",
          "model_name": "ProgressStyleModel",
          "model_module_version": "1.5.0",
          "state": {
            "_view_name": "StyleView",
            "_model_name": "ProgressStyleModel",
            "description_width": "",
            "_view_module": "@jupyter-widgets/base",
            "_model_module_version": "1.5.0",
            "_view_count": null,
            "_view_module_version": "1.2.0",
            "bar_color": null,
            "_model_module": "@jupyter-widgets/controls"
          }
        },
        "9b639a801c1b40b2b48e95b61218821f": {
          "model_module": "@jupyter-widgets/base",
          "model_name": "LayoutModel",
          "model_module_version": "1.2.0",
          "state": {
            "_view_name": "LayoutView",
            "grid_template_rows": null,
            "right": null,
            "justify_content": null,
            "_view_module": "@jupyter-widgets/base",
            "overflow": null,
            "_model_module_version": "1.2.0",
            "_view_count": null,
            "flex_flow": null,
            "width": null,
            "min_width": null,
            "border": null,
            "align_items": null,
            "bottom": null,
            "_model_module": "@jupyter-widgets/base",
            "top": null,
            "grid_column": null,
            "overflow_y": null,
            "overflow_x": null,
            "grid_auto_flow": null,
            "grid_area": null,
            "grid_template_columns": null,
            "flex": null,
            "_model_name": "LayoutModel",
            "justify_items": null,
            "grid_row": null,
            "max_height": null,
            "align_content": null,
            "visibility": null,
            "align_self": null,
            "height": null,
            "min_height": null,
            "padding": null,
            "grid_auto_rows": null,
            "grid_gap": null,
            "max_width": null,
            "order": null,
            "_view_module_version": "1.2.0",
            "grid_template_areas": null,
            "object_position": null,
            "object_fit": null,
            "grid_auto_columns": null,
            "margin": null,
            "display": null,
            "left": null
          }
        },
        "194093e9b31b4198aac01e06af047925": {
          "model_module": "@jupyter-widgets/controls",
          "model_name": "DescriptionStyleModel",
          "model_module_version": "1.5.0",
          "state": {
            "_view_name": "StyleView",
            "_model_name": "DescriptionStyleModel",
            "description_width": "",
            "_view_module": "@jupyter-widgets/base",
            "_model_module_version": "1.5.0",
            "_view_count": null,
            "_view_module_version": "1.2.0",
            "_model_module": "@jupyter-widgets/controls"
          }
        },
        "ddf321ae93464faa8ae8d43d85ed315e": {
          "model_module": "@jupyter-widgets/base",
          "model_name": "LayoutModel",
          "model_module_version": "1.2.0",
          "state": {
            "_view_name": "LayoutView",
            "grid_template_rows": null,
            "right": null,
            "justify_content": null,
            "_view_module": "@jupyter-widgets/base",
            "overflow": null,
            "_model_module_version": "1.2.0",
            "_view_count": null,
            "flex_flow": null,
            "width": null,
            "min_width": null,
            "border": null,
            "align_items": null,
            "bottom": null,
            "_model_module": "@jupyter-widgets/base",
            "top": null,
            "grid_column": null,
            "overflow_y": null,
            "overflow_x": null,
            "grid_auto_flow": null,
            "grid_area": null,
            "grid_template_columns": null,
            "flex": null,
            "_model_name": "LayoutModel",
            "justify_items": null,
            "grid_row": null,
            "max_height": null,
            "align_content": null,
            "visibility": null,
            "align_self": null,
            "height": null,
            "min_height": null,
            "padding": null,
            "grid_auto_rows": null,
            "grid_gap": null,
            "max_width": null,
            "order": null,
            "_view_module_version": "1.2.0",
            "grid_template_areas": null,
            "object_position": null,
            "object_fit": null,
            "grid_auto_columns": null,
            "margin": null,
            "display": null,
            "left": null
          }
        },
        "4833245158ee4b908dfc09f43b0617dc": {
          "model_module": "@jupyter-widgets/controls",
          "model_name": "HBoxModel",
          "model_module_version": "1.5.0",
          "state": {
            "_view_name": "HBoxView",
            "_dom_classes": [],
            "_model_name": "HBoxModel",
            "_view_module": "@jupyter-widgets/controls",
            "_model_module_version": "1.5.0",
            "_view_count": null,
            "_view_module_version": "1.5.0",
            "box_style": "",
            "layout": "IPY_MODEL_6fd2a47997e54480a623ea0eaf791eda",
            "_model_module": "@jupyter-widgets/controls",
            "children": [
              "IPY_MODEL_96293ca9a82b4290a9ac7e39c9344c0d",
              "IPY_MODEL_b7ecaf830687458a88633e16de49d965",
              "IPY_MODEL_c55a8d0f8e824e02876c94fa1e76058c"
            ]
          }
        },
        "6fd2a47997e54480a623ea0eaf791eda": {
          "model_module": "@jupyter-widgets/base",
          "model_name": "LayoutModel",
          "model_module_version": "1.2.0",
          "state": {
            "_view_name": "LayoutView",
            "grid_template_rows": null,
            "right": null,
            "justify_content": null,
            "_view_module": "@jupyter-widgets/base",
            "overflow": null,
            "_model_module_version": "1.2.0",
            "_view_count": null,
            "flex_flow": null,
            "width": null,
            "min_width": null,
            "border": null,
            "align_items": null,
            "bottom": null,
            "_model_module": "@jupyter-widgets/base",
            "top": null,
            "grid_column": null,
            "overflow_y": null,
            "overflow_x": null,
            "grid_auto_flow": null,
            "grid_area": null,
            "grid_template_columns": null,
            "flex": null,
            "_model_name": "LayoutModel",
            "justify_items": null,
            "grid_row": null,
            "max_height": null,
            "align_content": null,
            "visibility": null,
            "align_self": null,
            "height": null,
            "min_height": null,
            "padding": null,
            "grid_auto_rows": null,
            "grid_gap": null,
            "max_width": null,
            "order": null,
            "_view_module_version": "1.2.0",
            "grid_template_areas": null,
            "object_position": null,
            "object_fit": null,
            "grid_auto_columns": null,
            "margin": null,
            "display": null,
            "left": null
          }
        },
        "96293ca9a82b4290a9ac7e39c9344c0d": {
          "model_module": "@jupyter-widgets/controls",
          "model_name": "HTMLModel",
          "model_module_version": "1.5.0",
          "state": {
            "_view_name": "HTMLView",
            "style": "IPY_MODEL_2e791a6c1ffd4150bb69c20505f780fb",
            "_dom_classes": [],
            "description": "",
            "_model_name": "HTMLModel",
            "placeholder": "​",
            "_view_module": "@jupyter-widgets/controls",
            "_model_module_version": "1.5.0",
            "value": "Downloading: 100%",
            "_view_count": null,
            "_view_module_version": "1.5.0",
            "description_tooltip": null,
            "_model_module": "@jupyter-widgets/controls",
            "layout": "IPY_MODEL_4cf684a37e544bdd97814f4b0f4bf4a6"
          }
        },
        "b7ecaf830687458a88633e16de49d965": {
          "model_module": "@jupyter-widgets/controls",
          "model_name": "FloatProgressModel",
          "model_module_version": "1.5.0",
          "state": {
            "_view_name": "ProgressView",
            "style": "IPY_MODEL_c1beb35983144eabbae39bbd54cc341c",
            "_dom_classes": [],
            "description": "",
            "_model_name": "FloatProgressModel",
            "bar_style": "success",
            "max": 442,
            "_view_module": "@jupyter-widgets/controls",
            "_model_module_version": "1.5.0",
            "value": 442,
            "_view_count": null,
            "_view_module_version": "1.5.0",
            "orientation": "horizontal",
            "min": 0,
            "description_tooltip": null,
            "_model_module": "@jupyter-widgets/controls",
            "layout": "IPY_MODEL_5d7c57843fd4443dbd63ad3f4f99c50b"
          }
        },
        "c55a8d0f8e824e02876c94fa1e76058c": {
          "model_module": "@jupyter-widgets/controls",
          "model_name": "HTMLModel",
          "model_module_version": "1.5.0",
          "state": {
            "_view_name": "HTMLView",
            "style": "IPY_MODEL_91289a70f9be4d748d1836c2798c87c4",
            "_dom_classes": [],
            "description": "",
            "_model_name": "HTMLModel",
            "placeholder": "​",
            "_view_module": "@jupyter-widgets/controls",
            "_model_module_version": "1.5.0",
            "value": " 442/442 [00:00&lt;00:00, 12.9kB/s]",
            "_view_count": null,
            "_view_module_version": "1.5.0",
            "description_tooltip": null,
            "_model_module": "@jupyter-widgets/controls",
            "layout": "IPY_MODEL_01936614593e418984035d34ca2fdf41"
          }
        },
        "2e791a6c1ffd4150bb69c20505f780fb": {
          "model_module": "@jupyter-widgets/controls",
          "model_name": "DescriptionStyleModel",
          "model_module_version": "1.5.0",
          "state": {
            "_view_name": "StyleView",
            "_model_name": "DescriptionStyleModel",
            "description_width": "",
            "_view_module": "@jupyter-widgets/base",
            "_model_module_version": "1.5.0",
            "_view_count": null,
            "_view_module_version": "1.2.0",
            "_model_module": "@jupyter-widgets/controls"
          }
        },
        "4cf684a37e544bdd97814f4b0f4bf4a6": {
          "model_module": "@jupyter-widgets/base",
          "model_name": "LayoutModel",
          "model_module_version": "1.2.0",
          "state": {
            "_view_name": "LayoutView",
            "grid_template_rows": null,
            "right": null,
            "justify_content": null,
            "_view_module": "@jupyter-widgets/base",
            "overflow": null,
            "_model_module_version": "1.2.0",
            "_view_count": null,
            "flex_flow": null,
            "width": null,
            "min_width": null,
            "border": null,
            "align_items": null,
            "bottom": null,
            "_model_module": "@jupyter-widgets/base",
            "top": null,
            "grid_column": null,
            "overflow_y": null,
            "overflow_x": null,
            "grid_auto_flow": null,
            "grid_area": null,
            "grid_template_columns": null,
            "flex": null,
            "_model_name": "LayoutModel",
            "justify_items": null,
            "grid_row": null,
            "max_height": null,
            "align_content": null,
            "visibility": null,
            "align_self": null,
            "height": null,
            "min_height": null,
            "padding": null,
            "grid_auto_rows": null,
            "grid_gap": null,
            "max_width": null,
            "order": null,
            "_view_module_version": "1.2.0",
            "grid_template_areas": null,
            "object_position": null,
            "object_fit": null,
            "grid_auto_columns": null,
            "margin": null,
            "display": null,
            "left": null
          }
        },
        "c1beb35983144eabbae39bbd54cc341c": {
          "model_module": "@jupyter-widgets/controls",
          "model_name": "ProgressStyleModel",
          "model_module_version": "1.5.0",
          "state": {
            "_view_name": "StyleView",
            "_model_name": "ProgressStyleModel",
            "description_width": "",
            "_view_module": "@jupyter-widgets/base",
            "_model_module_version": "1.5.0",
            "_view_count": null,
            "_view_module_version": "1.2.0",
            "bar_color": null,
            "_model_module": "@jupyter-widgets/controls"
          }
        },
        "5d7c57843fd4443dbd63ad3f4f99c50b": {
          "model_module": "@jupyter-widgets/base",
          "model_name": "LayoutModel",
          "model_module_version": "1.2.0",
          "state": {
            "_view_name": "LayoutView",
            "grid_template_rows": null,
            "right": null,
            "justify_content": null,
            "_view_module": "@jupyter-widgets/base",
            "overflow": null,
            "_model_module_version": "1.2.0",
            "_view_count": null,
            "flex_flow": null,
            "width": null,
            "min_width": null,
            "border": null,
            "align_items": null,
            "bottom": null,
            "_model_module": "@jupyter-widgets/base",
            "top": null,
            "grid_column": null,
            "overflow_y": null,
            "overflow_x": null,
            "grid_auto_flow": null,
            "grid_area": null,
            "grid_template_columns": null,
            "flex": null,
            "_model_name": "LayoutModel",
            "justify_items": null,
            "grid_row": null,
            "max_height": null,
            "align_content": null,
            "visibility": null,
            "align_self": null,
            "height": null,
            "min_height": null,
            "padding": null,
            "grid_auto_rows": null,
            "grid_gap": null,
            "max_width": null,
            "order": null,
            "_view_module_version": "1.2.0",
            "grid_template_areas": null,
            "object_position": null,
            "object_fit": null,
            "grid_auto_columns": null,
            "margin": null,
            "display": null,
            "left": null
          }
        },
        "91289a70f9be4d748d1836c2798c87c4": {
          "model_module": "@jupyter-widgets/controls",
          "model_name": "DescriptionStyleModel",
          "model_module_version": "1.5.0",
          "state": {
            "_view_name": "StyleView",
            "_model_name": "DescriptionStyleModel",
            "description_width": "",
            "_view_module": "@jupyter-widgets/base",
            "_model_module_version": "1.5.0",
            "_view_count": null,
            "_view_module_version": "1.2.0",
            "_model_module": "@jupyter-widgets/controls"
          }
        },
        "01936614593e418984035d34ca2fdf41": {
          "model_module": "@jupyter-widgets/base",
          "model_name": "LayoutModel",
          "model_module_version": "1.2.0",
          "state": {
            "_view_name": "LayoutView",
            "grid_template_rows": null,
            "right": null,
            "justify_content": null,
            "_view_module": "@jupyter-widgets/base",
            "overflow": null,
            "_model_module_version": "1.2.0",
            "_view_count": null,
            "flex_flow": null,
            "width": null,
            "min_width": null,
            "border": null,
            "align_items": null,
            "bottom": null,
            "_model_module": "@jupyter-widgets/base",
            "top": null,
            "grid_column": null,
            "overflow_y": null,
            "overflow_x": null,
            "grid_auto_flow": null,
            "grid_area": null,
            "grid_template_columns": null,
            "flex": null,
            "_model_name": "LayoutModel",
            "justify_items": null,
            "grid_row": null,
            "max_height": null,
            "align_content": null,
            "visibility": null,
            "align_self": null,
            "height": null,
            "min_height": null,
            "padding": null,
            "grid_auto_rows": null,
            "grid_gap": null,
            "max_width": null,
            "order": null,
            "_view_module_version": "1.2.0",
            "grid_template_areas": null,
            "object_position": null,
            "object_fit": null,
            "grid_auto_columns": null,
            "margin": null,
            "display": null,
            "left": null
          }
        },
        "078c81435d0c446b98d9b633185132b6": {
          "model_module": "@jupyter-widgets/controls",
          "model_name": "HBoxModel",
          "model_module_version": "1.5.0",
          "state": {
            "_view_name": "HBoxView",
            "_dom_classes": [],
            "_model_name": "HBoxModel",
            "_view_module": "@jupyter-widgets/controls",
            "_model_module_version": "1.5.0",
            "_view_count": null,
            "_view_module_version": "1.5.0",
            "box_style": "",
            "layout": "IPY_MODEL_e29a6df6709e43db90d715006b5c4717",
            "_model_module": "@jupyter-widgets/controls",
            "children": [
              "IPY_MODEL_e0287538153f434cb0e7a0870490d2a2",
              "IPY_MODEL_c01c41c7a10442fdb33b041384b9381b",
              "IPY_MODEL_12c21e5b76b845bfa8db6f6dac77ddcd"
            ]
          }
        },
        "e29a6df6709e43db90d715006b5c4717": {
          "model_module": "@jupyter-widgets/base",
          "model_name": "LayoutModel",
          "model_module_version": "1.2.0",
          "state": {
            "_view_name": "LayoutView",
            "grid_template_rows": null,
            "right": null,
            "justify_content": null,
            "_view_module": "@jupyter-widgets/base",
            "overflow": null,
            "_model_module_version": "1.2.0",
            "_view_count": null,
            "flex_flow": null,
            "width": null,
            "min_width": null,
            "border": null,
            "align_items": null,
            "bottom": null,
            "_model_module": "@jupyter-widgets/base",
            "top": null,
            "grid_column": null,
            "overflow_y": null,
            "overflow_x": null,
            "grid_auto_flow": null,
            "grid_area": null,
            "grid_template_columns": null,
            "flex": null,
            "_model_name": "LayoutModel",
            "justify_items": null,
            "grid_row": null,
            "max_height": null,
            "align_content": null,
            "visibility": null,
            "align_self": null,
            "height": null,
            "min_height": null,
            "padding": null,
            "grid_auto_rows": null,
            "grid_gap": null,
            "max_width": null,
            "order": null,
            "_view_module_version": "1.2.0",
            "grid_template_areas": null,
            "object_position": null,
            "object_fit": null,
            "grid_auto_columns": null,
            "margin": null,
            "display": null,
            "left": null
          }
        },
        "e0287538153f434cb0e7a0870490d2a2": {
          "model_module": "@jupyter-widgets/controls",
          "model_name": "HTMLModel",
          "model_module_version": "1.5.0",
          "state": {
            "_view_name": "HTMLView",
            "style": "IPY_MODEL_1d7505d8693d4c04b34552fdd26b4347",
            "_dom_classes": [],
            "description": "",
            "_model_name": "HTMLModel",
            "placeholder": "​",
            "_view_module": "@jupyter-widgets/controls",
            "_model_module_version": "1.5.0",
            "value": "Downloading: 100%",
            "_view_count": null,
            "_view_module_version": "1.5.0",
            "description_tooltip": null,
            "_model_module": "@jupyter-widgets/controls",
            "layout": "IPY_MODEL_6993efd0bc4e4b808ba47390b2c39096"
          }
        },
        "c01c41c7a10442fdb33b041384b9381b": {
          "model_module": "@jupyter-widgets/controls",
          "model_name": "FloatProgressModel",
          "model_module_version": "1.5.0",
          "state": {
            "_view_name": "ProgressView",
            "style": "IPY_MODEL_ec39c35125014b478b1cdcfe82793812",
            "_dom_classes": [],
            "description": "",
            "_model_name": "FloatProgressModel",
            "bar_style": "success",
            "max": 267967963,
            "_view_module": "@jupyter-widgets/controls",
            "_model_module_version": "1.5.0",
            "value": 267967963,
            "_view_count": null,
            "_view_module_version": "1.5.0",
            "orientation": "horizontal",
            "min": 0,
            "description_tooltip": null,
            "_model_module": "@jupyter-widgets/controls",
            "layout": "IPY_MODEL_385174b7b95946b7a06cf437755a0e1b"
          }
        },
        "12c21e5b76b845bfa8db6f6dac77ddcd": {
          "model_module": "@jupyter-widgets/controls",
          "model_name": "HTMLModel",
          "model_module_version": "1.5.0",
          "state": {
            "_view_name": "HTMLView",
            "style": "IPY_MODEL_9da4f29f114f41408ef83a2c1829c2e4",
            "_dom_classes": [],
            "description": "",
            "_model_name": "HTMLModel",
            "placeholder": "​",
            "_view_module": "@jupyter-widgets/controls",
            "_model_module_version": "1.5.0",
            "value": " 268M/268M [00:05&lt;00:00, 47.9MB/s]",
            "_view_count": null,
            "_view_module_version": "1.5.0",
            "description_tooltip": null,
            "_model_module": "@jupyter-widgets/controls",
            "layout": "IPY_MODEL_e9e242a3de9545f3a9f69a54de3c2eea"
          }
        },
        "1d7505d8693d4c04b34552fdd26b4347": {
          "model_module": "@jupyter-widgets/controls",
          "model_name": "DescriptionStyleModel",
          "model_module_version": "1.5.0",
          "state": {
            "_view_name": "StyleView",
            "_model_name": "DescriptionStyleModel",
            "description_width": "",
            "_view_module": "@jupyter-widgets/base",
            "_model_module_version": "1.5.0",
            "_view_count": null,
            "_view_module_version": "1.2.0",
            "_model_module": "@jupyter-widgets/controls"
          }
        },
        "6993efd0bc4e4b808ba47390b2c39096": {
          "model_module": "@jupyter-widgets/base",
          "model_name": "LayoutModel",
          "model_module_version": "1.2.0",
          "state": {
            "_view_name": "LayoutView",
            "grid_template_rows": null,
            "right": null,
            "justify_content": null,
            "_view_module": "@jupyter-widgets/base",
            "overflow": null,
            "_model_module_version": "1.2.0",
            "_view_count": null,
            "flex_flow": null,
            "width": null,
            "min_width": null,
            "border": null,
            "align_items": null,
            "bottom": null,
            "_model_module": "@jupyter-widgets/base",
            "top": null,
            "grid_column": null,
            "overflow_y": null,
            "overflow_x": null,
            "grid_auto_flow": null,
            "grid_area": null,
            "grid_template_columns": null,
            "flex": null,
            "_model_name": "LayoutModel",
            "justify_items": null,
            "grid_row": null,
            "max_height": null,
            "align_content": null,
            "visibility": null,
            "align_self": null,
            "height": null,
            "min_height": null,
            "padding": null,
            "grid_auto_rows": null,
            "grid_gap": null,
            "max_width": null,
            "order": null,
            "_view_module_version": "1.2.0",
            "grid_template_areas": null,
            "object_position": null,
            "object_fit": null,
            "grid_auto_columns": null,
            "margin": null,
            "display": null,
            "left": null
          }
        },
        "ec39c35125014b478b1cdcfe82793812": {
          "model_module": "@jupyter-widgets/controls",
          "model_name": "ProgressStyleModel",
          "model_module_version": "1.5.0",
          "state": {
            "_view_name": "StyleView",
            "_model_name": "ProgressStyleModel",
            "description_width": "",
            "_view_module": "@jupyter-widgets/base",
            "_model_module_version": "1.5.0",
            "_view_count": null,
            "_view_module_version": "1.2.0",
            "bar_color": null,
            "_model_module": "@jupyter-widgets/controls"
          }
        },
        "385174b7b95946b7a06cf437755a0e1b": {
          "model_module": "@jupyter-widgets/base",
          "model_name": "LayoutModel",
          "model_module_version": "1.2.0",
          "state": {
            "_view_name": "LayoutView",
            "grid_template_rows": null,
            "right": null,
            "justify_content": null,
            "_view_module": "@jupyter-widgets/base",
            "overflow": null,
            "_model_module_version": "1.2.0",
            "_view_count": null,
            "flex_flow": null,
            "width": null,
            "min_width": null,
            "border": null,
            "align_items": null,
            "bottom": null,
            "_model_module": "@jupyter-widgets/base",
            "top": null,
            "grid_column": null,
            "overflow_y": null,
            "overflow_x": null,
            "grid_auto_flow": null,
            "grid_area": null,
            "grid_template_columns": null,
            "flex": null,
            "_model_name": "LayoutModel",
            "justify_items": null,
            "grid_row": null,
            "max_height": null,
            "align_content": null,
            "visibility": null,
            "align_self": null,
            "height": null,
            "min_height": null,
            "padding": null,
            "grid_auto_rows": null,
            "grid_gap": null,
            "max_width": null,
            "order": null,
            "_view_module_version": "1.2.0",
            "grid_template_areas": null,
            "object_position": null,
            "object_fit": null,
            "grid_auto_columns": null,
            "margin": null,
            "display": null,
            "left": null
          }
        },
        "9da4f29f114f41408ef83a2c1829c2e4": {
          "model_module": "@jupyter-widgets/controls",
          "model_name": "DescriptionStyleModel",
          "model_module_version": "1.5.0",
          "state": {
            "_view_name": "StyleView",
            "_model_name": "DescriptionStyleModel",
            "description_width": "",
            "_view_module": "@jupyter-widgets/base",
            "_model_module_version": "1.5.0",
            "_view_count": null,
            "_view_module_version": "1.2.0",
            "_model_module": "@jupyter-widgets/controls"
          }
        },
        "e9e242a3de9545f3a9f69a54de3c2eea": {
          "model_module": "@jupyter-widgets/base",
          "model_name": "LayoutModel",
          "model_module_version": "1.2.0",
          "state": {
            "_view_name": "LayoutView",
            "grid_template_rows": null,
            "right": null,
            "justify_content": null,
            "_view_module": "@jupyter-widgets/base",
            "overflow": null,
            "_model_module_version": "1.2.0",
            "_view_count": null,
            "flex_flow": null,
            "width": null,
            "min_width": null,
            "border": null,
            "align_items": null,
            "bottom": null,
            "_model_module": "@jupyter-widgets/base",
            "top": null,
            "grid_column": null,
            "overflow_y": null,
            "overflow_x": null,
            "grid_auto_flow": null,
            "grid_area": null,
            "grid_template_columns": null,
            "flex": null,
            "_model_name": "LayoutModel",
            "justify_items": null,
            "grid_row": null,
            "max_height": null,
            "align_content": null,
            "visibility": null,
            "align_self": null,
            "height": null,
            "min_height": null,
            "padding": null,
            "grid_auto_rows": null,
            "grid_gap": null,
            "max_width": null,
            "order": null,
            "_view_module_version": "1.2.0",
            "grid_template_areas": null,
            "object_position": null,
            "object_fit": null,
            "grid_auto_columns": null,
            "margin": null,
            "display": null,
            "left": null
          }
        }
      }
    }
  },
  "cells": [
    {
      "cell_type": "markdown",
      "metadata": {
        "id": "view-in-github",
        "colab_type": "text"
      },
      "source": [
        "<a href=\"https://colab.research.google.com/github/KonstantinLihota/Image_Caption/blob/master/%D0%9A%D0%BE%D0%BF%D0%B8%D1%8F_%D0%B1%D0%BB%D0%BE%D0%BA%D0%BD%D0%BE%D1%82%D0%B0_%22IC2_0_pynb%22.ipynb\" target=\"_parent\"><img src=\"https://colab.research.google.com/assets/colab-badge.svg\" alt=\"Open In Colab\"/></a>"
      ]
    },
    {
      "cell_type": "markdown",
      "metadata": {
        "id": "v-AiZ9qDTOPo"
      },
      "source": [
        "# План выполнения\n",
        "1) Загрузить данные, выкинуть из них лишнние слова, и знаки препинания\n",
        "\n",
        "2) Токенизовать с помощью bert\n",
        "\n",
        "3) Написать сеть без внимания используя все ту же cnn сеть. \n",
        "\n",
        "4) Проверить качество\n",
        "\n",
        "5) Добавить внимание\n",
        "\n",
        "6) Добавить другую cnn\n",
        "\n",
        "7) Сделать бота "
      ]
    },
    {
      "cell_type": "markdown",
      "metadata": {
        "id": "G0a7v--0UANW"
      },
      "source": [
        "## Загрузка данных и чистка "
      ]
    },
    {
      "cell_type": "code",
      "metadata": {
        "id": "rytjtYBsAAz4"
      },
      "source": [
        "device ='cuda:0'\n",
        "#device ='cpu'"
      ],
      "execution_count": 1,
      "outputs": []
    },
    {
      "cell_type": "code",
      "metadata": {
        "colab": {
          "base_uri": "https://localhost:8080/"
        },
        "id": "_z5crLNzTFTV",
        "outputId": "d6a95000-66fb-473e-acc9-fba175edbd3b"
      },
      "source": [
        "DATA_PATH = ''\n",
        "%matplotlib inline\n",
        "\n",
        "# For Google Colab only:\n",
        "import sys\n",
        "sys.path.append('/content/gdrive/My Drive/Colab Notebooks')\n",
        "#from reco_utils.recommender.sar.sar_singlenode import SARSingleNode\n",
        "from google.colab import drive\n",
        "drive.mount('/content/gdrive')\n",
        "\n",
        "DATA_PATH = '/content/gdrive/MyDrive/handout.tar'"
      ],
      "execution_count": 2,
      "outputs": [
        {
          "output_type": "stream",
          "text": [
            "Mounted at /content/gdrive\n"
          ],
          "name": "stdout"
        }
      ]
    },
    {
      "cell_type": "code",
      "metadata": {
        "id": "WYBFBz3YUIBH"
      },
      "source": [
        "import numpy as np\n",
        "import json\n",
        "import tarfile\n",
        "tar = tarfile.open(DATA_PATH, 'r')\n",
        "tar.extractall()\n",
        "tar.close()\n",
        "\n",
        "# загружаем датасет\n",
        "img_codes = np.load(\"data/image_codes.npy\")\n",
        "captions = json.load(open('data/captions_tokenized.json'))"
      ],
      "execution_count": 3,
      "outputs": []
    },
    {
      "cell_type": "code",
      "metadata": {
        "colab": {
          "base_uri": "https://localhost:8080/",
          "height": 774,
          "referenced_widgets": [
            "d0a990582df146709ff2a5a3d7e80c2c",
            "652db604fdb9434d87f53fc40c3eec26",
            "5dafda041ef74b5f90f1b4f2bb024faa",
            "f4b4e95afc1c458ea91b507450eaa8e6",
            "1b383d13f9984702bdc747d5318d082a",
            "146570e5cda54b5a99bbf660e8003909",
            "e6a69ad7f0e3409fae2cfece5c4a296e",
            "b6fe9ae9c92b42e595f11fed11203efb",
            "7e8925de1e2e4c8dbd32e24381d5882f",
            "c98e56c02f4140dea02c33b08845b27a",
            "81593e0bece846638522785745d1f2fc",
            "685eb090aa15471c8ade90d7c886ab58",
            "30583294c6194a8f8058293ef040ad78",
            "597aa4b2df8c4b95a8c0d4eac2289c83",
            "15dc389ca7ad45288d28be144d201e47",
            "2c1bc2f7583942ae9858d4fe941671bc",
            "e0b685e8f00b40f58edf33224e0790bf",
            "2eb8a40e283b404f8f4e293c091dade8",
            "0ccd256c682a461489c8fdc8c63d092e",
            "341e02734b764f89a72cb4d330848faa",
            "bd3c44c2b4fe42579e51ca8d22dc866a",
            "14c27c5a30c34def80a1248faf72065e",
            "7e6a04c882354cd8b68bae1e040999b6",
            "97cd114002cf47889b80224cd1a4c721",
            "e99ebabc05b04d33967c31974213e26b",
            "56d1a7b5259e4918905635af2a2fa98e",
            "0077a1b60d89446fb094940f604e885b",
            "0493b4abbcaf4217955225ca17e778db",
            "3894e282969b4616a7034649eafac4a5",
            "7a600465799747739073e5b2afe449c6",
            "9b639a801c1b40b2b48e95b61218821f",
            "194093e9b31b4198aac01e06af047925",
            "ddf321ae93464faa8ae8d43d85ed315e",
            "4833245158ee4b908dfc09f43b0617dc",
            "6fd2a47997e54480a623ea0eaf791eda",
            "96293ca9a82b4290a9ac7e39c9344c0d",
            "b7ecaf830687458a88633e16de49d965",
            "c55a8d0f8e824e02876c94fa1e76058c",
            "2e791a6c1ffd4150bb69c20505f780fb",
            "4cf684a37e544bdd97814f4b0f4bf4a6",
            "c1beb35983144eabbae39bbd54cc341c",
            "5d7c57843fd4443dbd63ad3f4f99c50b",
            "91289a70f9be4d748d1836c2798c87c4",
            "01936614593e418984035d34ca2fdf41"
          ]
        },
        "id": "kOHv0SVpUgdn",
        "outputId": "37276b1b-22f9-41c3-88c9-08a7e384a6f1"
      },
      "source": [
        "!pip install transformers\n",
        "import transformers as ppb\n",
        "model_class, tokenizer_class, pretrained_weights = (ppb.DistilBertModel, ppb.DistilBertTokenizer, 'distilbert-base-uncased')\n",
        "tokenizer = tokenizer_class.from_pretrained(pretrained_weights)"
      ],
      "execution_count": 4,
      "outputs": [
        {
          "output_type": "stream",
          "text": [
            "Collecting transformers\n",
            "  Downloading transformers-4.9.2-py3-none-any.whl (2.6 MB)\n",
            "\u001b[K     |████████████████████████████████| 2.6 MB 8.1 MB/s \n",
            "\u001b[?25hRequirement already satisfied: packaging in /usr/local/lib/python3.7/dist-packages (from transformers) (21.0)\n",
            "Requirement already satisfied: tqdm>=4.27 in /usr/local/lib/python3.7/dist-packages (from transformers) (4.62.0)\n",
            "Collecting sacremoses\n",
            "  Downloading sacremoses-0.0.45-py3-none-any.whl (895 kB)\n",
            "\u001b[K     |████████████████████████████████| 895 kB 59.6 MB/s \n",
            "\u001b[?25hCollecting pyyaml>=5.1\n",
            "  Downloading PyYAML-5.4.1-cp37-cp37m-manylinux1_x86_64.whl (636 kB)\n",
            "\u001b[K     |████████████████████████████████| 636 kB 56.6 MB/s \n",
            "\u001b[?25hRequirement already satisfied: importlib-metadata in /usr/local/lib/python3.7/dist-packages (from transformers) (4.6.4)\n",
            "Collecting tokenizers<0.11,>=0.10.1\n",
            "  Downloading tokenizers-0.10.3-cp37-cp37m-manylinux_2_5_x86_64.manylinux1_x86_64.manylinux_2_12_x86_64.manylinux2010_x86_64.whl (3.3 MB)\n",
            "\u001b[K     |████████████████████████████████| 3.3 MB 63.1 MB/s \n",
            "\u001b[?25hRequirement already satisfied: numpy>=1.17 in /usr/local/lib/python3.7/dist-packages (from transformers) (1.19.5)\n",
            "Requirement already satisfied: requests in /usr/local/lib/python3.7/dist-packages (from transformers) (2.23.0)\n",
            "Requirement already satisfied: regex!=2019.12.17 in /usr/local/lib/python3.7/dist-packages (from transformers) (2019.12.20)\n",
            "Requirement already satisfied: filelock in /usr/local/lib/python3.7/dist-packages (from transformers) (3.0.12)\n",
            "Collecting huggingface-hub==0.0.12\n",
            "  Downloading huggingface_hub-0.0.12-py3-none-any.whl (37 kB)\n",
            "Requirement already satisfied: typing-extensions in /usr/local/lib/python3.7/dist-packages (from huggingface-hub==0.0.12->transformers) (3.7.4.3)\n",
            "Requirement already satisfied: pyparsing>=2.0.2 in /usr/local/lib/python3.7/dist-packages (from packaging->transformers) (2.4.7)\n",
            "Requirement already satisfied: zipp>=0.5 in /usr/local/lib/python3.7/dist-packages (from importlib-metadata->transformers) (3.5.0)\n",
            "Requirement already satisfied: urllib3!=1.25.0,!=1.25.1,<1.26,>=1.21.1 in /usr/local/lib/python3.7/dist-packages (from requests->transformers) (1.24.3)\n",
            "Requirement already satisfied: certifi>=2017.4.17 in /usr/local/lib/python3.7/dist-packages (from requests->transformers) (2021.5.30)\n",
            "Requirement already satisfied: chardet<4,>=3.0.2 in /usr/local/lib/python3.7/dist-packages (from requests->transformers) (3.0.4)\n",
            "Requirement already satisfied: idna<3,>=2.5 in /usr/local/lib/python3.7/dist-packages (from requests->transformers) (2.10)\n",
            "Requirement already satisfied: joblib in /usr/local/lib/python3.7/dist-packages (from sacremoses->transformers) (1.0.1)\n",
            "Requirement already satisfied: click in /usr/local/lib/python3.7/dist-packages (from sacremoses->transformers) (7.1.2)\n",
            "Requirement already satisfied: six in /usr/local/lib/python3.7/dist-packages (from sacremoses->transformers) (1.15.0)\n",
            "Installing collected packages: tokenizers, sacremoses, pyyaml, huggingface-hub, transformers\n",
            "  Attempting uninstall: pyyaml\n",
            "    Found existing installation: PyYAML 3.13\n",
            "    Uninstalling PyYAML-3.13:\n",
            "      Successfully uninstalled PyYAML-3.13\n",
            "Successfully installed huggingface-hub-0.0.12 pyyaml-5.4.1 sacremoses-0.0.45 tokenizers-0.10.3 transformers-4.9.2\n"
          ],
          "name": "stdout"
        },
        {
          "output_type": "display_data",
          "data": {
            "application/vnd.jupyter.widget-view+json": {
              "model_id": "d0a990582df146709ff2a5a3d7e80c2c",
              "version_minor": 0,
              "version_major": 2
            },
            "text/plain": [
              "Downloading:   0%|          | 0.00/232k [00:00<?, ?B/s]"
            ]
          },
          "metadata": {}
        },
        {
          "output_type": "display_data",
          "data": {
            "application/vnd.jupyter.widget-view+json": {
              "model_id": "685eb090aa15471c8ade90d7c886ab58",
              "version_minor": 0,
              "version_major": 2
            },
            "text/plain": [
              "Downloading:   0%|          | 0.00/28.0 [00:00<?, ?B/s]"
            ]
          },
          "metadata": {}
        },
        {
          "output_type": "display_data",
          "data": {
            "application/vnd.jupyter.widget-view+json": {
              "model_id": "7e6a04c882354cd8b68bae1e040999b6",
              "version_minor": 0,
              "version_major": 2
            },
            "text/plain": [
              "Downloading:   0%|          | 0.00/466k [00:00<?, ?B/s]"
            ]
          },
          "metadata": {}
        },
        {
          "output_type": "display_data",
          "data": {
            "application/vnd.jupyter.widget-view+json": {
              "model_id": "4833245158ee4b908dfc09f43b0617dc",
              "version_minor": 0,
              "version_major": 2
            },
            "text/plain": [
              "Downloading:   0%|          | 0.00/442 [00:00<?, ?B/s]"
            ]
          },
          "metadata": {}
        }
      ]
    },
    {
      "cell_type": "code",
      "metadata": {
        "colab": {
          "base_uri": "https://localhost:8080/"
        },
        "id": "7CtpJ12lVgon",
        "outputId": "31484c2f-a2e9-49f7-8d47-6835c51a57a8"
      },
      "source": [
        "import nltk\n",
        "nltk.download('punkt')\n",
        "from itertools import chain\n",
        "from collections import Counter\n",
        "from nltk.tokenize import sent_tokenize, word_tokenize\n",
        "from nltk.tokenize import WordPunctTokenizer\n",
        "from torchtext.legacy.data import Field, BucketIterator\n"
      ],
      "execution_count": 5,
      "outputs": [
        {
          "output_type": "stream",
          "text": [
            "[nltk_data] Downloading package punkt to /root/nltk_data...\n",
            "[nltk_data]   Unzipping tokenizers/punkt.zip.\n"
          ],
          "name": "stdout"
        }
      ]
    },
    {
      "cell_type": "code",
      "metadata": {
        "id": "ytloC60SVgxV"
      },
      "source": [
        "from torch.utils.data import Dataset, random_split\n",
        "import torch\n",
        "from gensim.corpora.dictionary import Dictionary\n",
        "class Tokenizer():\n",
        "    def __init__(self, text,tokenizer = tokenizer,  count_word = 5):\n",
        "      self.len_vocab = set()\n",
        "      self.text = text\n",
        "      self.count_word= count_word\n",
        "      self.my_vocab = None\n",
        "    def Vocab_size(self):\n",
        "      return self.my_vocab.num_pos\n",
        "    def Vocab_count(self):\n",
        "      wordlist =[]\n",
        "      [[wordlist.append(word_tokenize(sent)) for sent in description] for description in self.text] #----------------------------------------\n",
        "      return Counter(chain(*wordlist))\n",
        "\n",
        "\n",
        "\n",
        "    def tokeniz(self):\n",
        "      \n",
        "      vocab_count = self.Vocab_count()\n",
        "      tokens = []\n",
        "\n",
        "      my_vocab = Dictionary([list(vocab_count)])\n",
        "      for description in self.text: #----------------------------------------\n",
        "         batch =[]\n",
        "         for sent in description:\n",
        "           clear_sent =[]\n",
        "           for word in word_tokenize(sent):\n",
        "             if vocab_count.setdefault(word)>self.count_word:\n",
        "               clear_sent.append(word)\n",
        "               self.len_vocab.add(vocab_count.setdefault(word)) \n",
        "\n",
        "           batch.append(tokenizer(' '.join(clear_sent) ))\n",
        "         tokens.append(batch)\n",
        "\n",
        "      return tokens\n"
      ],
      "execution_count": 6,
      "outputs": []
    },
    {
      "cell_type": "code",
      "metadata": {
        "colab": {
          "base_uri": "https://localhost:8080/"
        },
        "id": "wsL3YjUwf8GG",
        "outputId": "c0c7b38b-d060-4a5d-fc94-61c30ac12b13"
      },
      "source": [
        "captions[0]"
      ],
      "execution_count": 7,
      "outputs": [
        {
          "output_type": "execute_result",
          "data": {
            "text/plain": [
              "['people shopping in an open market for vegetables .',\n",
              " 'an open market full of people and piles of vegetables .',\n",
              " 'people are shopping at an open air produce market .',\n",
              " 'large piles of carrots and potatoes at a crowded outdoor market .',\n",
              " 'people shop for vegetables like carrots and potatoes at an open air market .']"
            ]
          },
          "metadata": {},
          "execution_count": 7
        }
      ]
    },
    {
      "cell_type": "code",
      "metadata": {
        "colab": {
          "base_uri": "https://localhost:8080/"
        },
        "id": "eqeG2IjDihnu",
        "outputId": "355f8b6b-daa6-4c49-a74d-917410727ba1"
      },
      "source": [
        "img_codes[0]"
      ],
      "execution_count": 8,
      "outputs": [
        {
          "output_type": "execute_result",
          "data": {
            "text/plain": [
              "array([0.3659946 , 0.2016555 , 0.9245725 , ..., 0.00344942, 0.99817497,\n",
              "       1.1091837 ], dtype=float32)"
            ]
          },
          "metadata": {},
          "execution_count": 8
        }
      ]
    },
    {
      "cell_type": "code",
      "metadata": {
        "id": "thPP2YT-Vg0e"
      },
      "source": [
        "tok = Tokenizer(captions).tokeniz()"
      ],
      "execution_count": 9,
      "outputs": []
    },
    {
      "cell_type": "code",
      "metadata": {
        "colab": {
          "base_uri": "https://localhost:8080/"
        },
        "id": "iIaHR5RNgAgE",
        "outputId": "67b1ddb6-274f-4d43-d8a3-459f0d0083cb"
      },
      "source": [
        "tok[0]"
      ],
      "execution_count": 10,
      "outputs": [
        {
          "output_type": "execute_result",
          "data": {
            "text/plain": [
              "[{'input_ids': [101, 2111, 6023, 1999, 2019, 2330, 3006, 2005, 11546, 1012, 102], 'attention_mask': [1, 1, 1, 1, 1, 1, 1, 1, 1, 1, 1]},\n",
              " {'input_ids': [101, 2019, 2330, 3006, 2440, 1997, 2111, 1998, 18526, 1997, 11546, 1012, 102], 'attention_mask': [1, 1, 1, 1, 1, 1, 1, 1, 1, 1, 1, 1, 1]},\n",
              " {'input_ids': [101, 2111, 2024, 6023, 2012, 2019, 2330, 2250, 3965, 3006, 1012, 102], 'attention_mask': [1, 1, 1, 1, 1, 1, 1, 1, 1, 1, 1, 1]},\n",
              " {'input_ids': [101, 2312, 18526, 1997, 25659, 2015, 1998, 14629, 2012, 1037, 10789, 7254, 3006, 1012, 102], 'attention_mask': [1, 1, 1, 1, 1, 1, 1, 1, 1, 1, 1, 1, 1, 1, 1]},\n",
              " {'input_ids': [101, 2111, 4497, 2005, 11546, 2066, 25659, 2015, 1998, 14629, 2012, 2019, 2330, 2250, 3006, 1012, 102], 'attention_mask': [1, 1, 1, 1, 1, 1, 1, 1, 1, 1, 1, 1, 1, 1, 1, 1, 1]}]"
            ]
          },
          "metadata": {},
          "execution_count": 10
        }
      ]
    },
    {
      "cell_type": "code",
      "metadata": {
        "id": "8c1I4hPShqpu"
      },
      "source": [
        ""
      ],
      "execution_count": 10,
      "outputs": []
    },
    {
      "cell_type": "code",
      "metadata": {
        "id": "xszQXm17Vg3g"
      },
      "source": [
        "from torch.utils.data import Dataset, random_split\n",
        "import torch\n",
        "from gensim.corpora.dictionary import Dictionary\n",
        "class  PreprocessingDataset(Dataset):\n",
        "\n",
        "  def __init__(self, text,img_codes,tokenizer = tokenizer,  tokeniz = tok ):\n",
        "      self.tokenized = tokeniz\n",
        "\n",
        "      self.text =text\n",
        "      self.img_codes =img_codes\n",
        "\n",
        "\n",
        "  def __getitem__(self,index):\n",
        "         return {\"tokenized\": self.tokenized[:][index] , \"img_codes\": self.img_codes[index]}\n",
        "  def __len__(self):\n",
        "     return len(self.text)\n",
        "\n",
        "dataset  = PreprocessingDataset(captions ,img_codes)\n",
        "\n",
        "train_size, val_size = int(.8 * len(dataset)), int(.1 * len(dataset))\n",
        "torch.manual_seed(2) \n",
        "train_data, valid_data, test_data = random_split(dataset, [train_size, val_size, len(dataset) - train_size - val_size])"
      ],
      "execution_count": 11,
      "outputs": []
    },
    {
      "cell_type": "code",
      "metadata": {
        "id": "ndkn-zzsVg6L",
        "colab": {
          "base_uri": "https://localhost:8080/"
        },
        "outputId": "a0777f13-9856-4637-fafe-ad51f6f4a851"
      },
      "source": [
        "train_data.dataset.tokenized[0]"
      ],
      "execution_count": 12,
      "outputs": [
        {
          "output_type": "execute_result",
          "data": {
            "text/plain": [
              "[{'input_ids': [101, 2111, 6023, 1999, 2019, 2330, 3006, 2005, 11546, 1012, 102], 'attention_mask': [1, 1, 1, 1, 1, 1, 1, 1, 1, 1, 1]},\n",
              " {'input_ids': [101, 2019, 2330, 3006, 2440, 1997, 2111, 1998, 18526, 1997, 11546, 1012, 102], 'attention_mask': [1, 1, 1, 1, 1, 1, 1, 1, 1, 1, 1, 1, 1]},\n",
              " {'input_ids': [101, 2111, 2024, 6023, 2012, 2019, 2330, 2250, 3965, 3006, 1012, 102], 'attention_mask': [1, 1, 1, 1, 1, 1, 1, 1, 1, 1, 1, 1]},\n",
              " {'input_ids': [101, 2312, 18526, 1997, 25659, 2015, 1998, 14629, 2012, 1037, 10789, 7254, 3006, 1012, 102], 'attention_mask': [1, 1, 1, 1, 1, 1, 1, 1, 1, 1, 1, 1, 1, 1, 1]},\n",
              " {'input_ids': [101, 2111, 4497, 2005, 11546, 2066, 25659, 2015, 1998, 14629, 2012, 2019, 2330, 2250, 3006, 1012, 102], 'attention_mask': [1, 1, 1, 1, 1, 1, 1, 1, 1, 1, 1, 1, 1, 1, 1, 1, 1]}]"
            ]
          },
          "metadata": {},
          "execution_count": 12
        }
      ]
    },
    {
      "cell_type": "code",
      "metadata": {
        "id": "u8cG_mlaVg9R",
        "colab": {
          "base_uri": "https://localhost:8080/"
        },
        "outputId": "5f918d54-982b-4f0c-d2ed-224fbea55921"
      },
      "source": [
        "train_data.dataset.img_codes[0]"
      ],
      "execution_count": 13,
      "outputs": [
        {
          "output_type": "execute_result",
          "data": {
            "text/plain": [
              "array([0.3659946 , 0.2016555 , 0.9245725 , ..., 0.00344942, 0.99817497,\n",
              "       1.1091837 ], dtype=float32)"
            ]
          },
          "metadata": {},
          "execution_count": 13
        }
      ]
    },
    {
      "cell_type": "code",
      "metadata": {
        "colab": {
          "base_uri": "https://localhost:8080/"
        },
        "id": "USDezsqEjlee",
        "outputId": "1bfa8540-c580-4ea4-f993-2d9ca7fa201a"
      },
      "source": [
        "len(train_data.indices)"
      ],
      "execution_count": 14,
      "outputs": [
        {
          "output_type": "execute_result",
          "data": {
            "text/plain": [
              "94629"
            ]
          },
          "metadata": {},
          "execution_count": 14
        }
      ]
    },
    {
      "cell_type": "code",
      "metadata": {
        "id": "jQ7zCWkdjKh3"
      },
      "source": [
        " a = np.array(train_data.dataset.tokenized)[0]\n"
      ],
      "execution_count": 15,
      "outputs": []
    },
    {
      "cell_type": "code",
      "metadata": {
        "id": "i4QLjBZxVhAU"
      },
      "source": [
        "from torch.utils.data import Sampler\n",
        "import random\n",
        "from torch.utils.data import DataLoader\n",
        "class ReviewsSampler(Sampler):\n",
        "    def __init__(self, subset, batch_size=64):\n",
        "        self.batch_size = batch_size\n",
        "        self.subset = subset\n",
        "\n",
        "        self.indices = subset.indices\n",
        "\n",
        "        self.tokenized = np.array(subset.dataset.tokenized)[self.indices]\n",
        "\n",
        "    def __iter__(self):\n",
        "\n",
        "        batch_idx = []\n",
        "        for index in np.argsort(list(map(len, self.tokenized))):\n",
        "            batch_idx.append(index)\n",
        "            if len(batch_idx) == self.batch_size:\n",
        "                yield batch_idx\n",
        "                batch_idx = []\n",
        "\n",
        "        if len(batch_idx) > 0:\n",
        "            yield batch_idx\n",
        "\n",
        "    def __len__(self):\n",
        "        return len(self.dataset)\n",
        "\n",
        "def get_padded(values):\n",
        "    padded= []\n",
        "    max_len = 15\n",
        "\n",
        "\n",
        "    for sent in values:\n",
        "        sent =  sent['input_ids']\n",
        "        if len(sent)> max_len:\n",
        "          padded.append(np.array(sent[:max_len-1]+[102]))\n",
        "\n",
        "\n",
        "        else:\n",
        "          padded.append(np.array(sent + [0]*(max_len-len(sent))))\n",
        "\n",
        "\n",
        "    return np.array(padded)\n",
        "\n",
        "def collate_fn(batch):\n",
        "\n",
        "    inputs = []\n",
        "    labels = []\n",
        "    bh =[]\n",
        "    for elem in batch:\n",
        "\n",
        "        inputs.append(elem['tokenized'])\n",
        "        labels.append(elem['img_codes'])\n",
        "\n",
        "\n",
        "    inp =[]\n",
        "    mask_a =[]\n",
        "    for i in inputs:\n",
        "\n",
        "        inp.append(get_padded(i) )## padded inputs\n",
        "        \n",
        "        l = len(inp[-1][0])\n",
        "  \n",
        "        mask_a.append(torch.ones(l).numpy())\n",
        "\n",
        "\n",
        "    return {\"inputs\": torch.tensor(inp).to(device),'mask': torch.tensor(mask_a).to(device), \"img_codes\": torch.FloatTensor(labels).to(device) }\n",
        "\n",
        "train_loader = DataLoader(train_data,  batch_size=32,collate_fn=collate_fn)\n",
        "valid_loader = DataLoader(valid_data,  batch_size=32,collate_fn=collate_fn)\n",
        "test_loader = DataLoader(test_data,  batch_size=32, collate_fn=collate_fn)"
      ],
      "execution_count": 16,
      "outputs": []
    },
    {
      "cell_type": "code",
      "metadata": {
        "id": "PvMgdkgDVhDo"
      },
      "source": [
        "for i in train_loader:\n",
        "  #print(i)\n",
        "  break\n",
        "\n"
      ],
      "execution_count": 54,
      "outputs": []
    },
    {
      "cell_type": "code",
      "metadata": {
        "colab": {
          "base_uri": "https://localhost:8080/"
        },
        "id": "Be1qSqr_k5lD",
        "outputId": "78ee8186-17c0-4ba5-8122-17b1ceae0482"
      },
      "source": [
        "i['inputs'][0]"
      ],
      "execution_count": null,
      "outputs": [
        {
          "output_type": "execute_result",
          "data": {
            "text/plain": [
              "tensor([[  101,  1037,  2193,  1997,  2111,  2006,  1037,  2795,  2007,  2116,\n",
              "          7877,   102,     0,     0,     0],\n",
              "        [  101,  1037,  2158, 13053,  4511,  2046,  1037,  3221,  2012,  1037,\n",
              "          2795,  2007,  2195,  2111,   102],\n",
              "        [  101,  1037,  2158,  2008,  2003,  3173,  1037,  4511,  5835,  2379,\n",
              "          1037,  2795,  1012,   102,     0],\n",
              "        [  101,  1037,  2795,  1999,  1037,  4825,  2008,  2038,  2195,  3080,\n",
              "          2111,  8901,  1998,  1037,   102],\n",
              "        [  101,  1037,  2158, 13053,  4511,  2046,  1037,  3221,  3564,  2006,\n",
              "          1037,  2795,   102,     0,     0]])"
            ]
          },
          "metadata": {
            "tags": []
          },
          "execution_count": 39
        }
      ]
    },
    {
      "cell_type": "markdown",
      "metadata": {
        "id": "qjvCRC9z41Rk"
      },
      "source": [
        "## Архитектура"
      ]
    },
    {
      "cell_type": "code",
      "metadata": {
        "id": "CX2W7MvrT0j-"
      },
      "source": [
        ""
      ],
      "execution_count": null,
      "outputs": []
    },
    {
      "cell_type": "code",
      "metadata": {
        "id": "81TyfH-XVhGK"
      },
      "source": [
        ""
      ],
      "execution_count": null,
      "outputs": []
    },
    {
      "cell_type": "code",
      "metadata": {
        "colab": {
          "base_uri": "https://localhost:8080/",
          "height": 120,
          "referenced_widgets": [
            "078c81435d0c446b98d9b633185132b6",
            "e29a6df6709e43db90d715006b5c4717",
            "e0287538153f434cb0e7a0870490d2a2",
            "c01c41c7a10442fdb33b041384b9381b",
            "12c21e5b76b845bfa8db6f6dac77ddcd",
            "1d7505d8693d4c04b34552fdd26b4347",
            "6993efd0bc4e4b808ba47390b2c39096",
            "ec39c35125014b478b1cdcfe82793812",
            "385174b7b95946b7a06cf437755a0e1b",
            "9da4f29f114f41408ef83a2c1829c2e4",
            "e9e242a3de9545f3a9f69a54de3c2eea"
          ]
        },
        "id": "U5_dwiTlAFCQ",
        "outputId": "3fc79c23-37b5-40fe-aa64-64496ca4a9ab"
      },
      "source": [
        "embed= model_class.from_pretrained(pretrained_weights).to(device)"
      ],
      "execution_count": 17,
      "outputs": [
        {
          "output_type": "display_data",
          "data": {
            "application/vnd.jupyter.widget-view+json": {
              "model_id": "078c81435d0c446b98d9b633185132b6",
              "version_minor": 0,
              "version_major": 2
            },
            "text/plain": [
              "Downloading:   0%|          | 0.00/268M [00:00<?, ?B/s]"
            ]
          },
          "metadata": {}
        },
        {
          "output_type": "stream",
          "text": [
            "Some weights of the model checkpoint at distilbert-base-uncased were not used when initializing DistilBertModel: ['vocab_transform.bias', 'vocab_layer_norm.weight', 'vocab_projector.bias', 'vocab_projector.weight', 'vocab_layer_norm.bias', 'vocab_transform.weight']\n",
            "- This IS expected if you are initializing DistilBertModel from the checkpoint of a model trained on another task or with another architecture (e.g. initializing a BertForSequenceClassification model from a BertForPreTraining model).\n",
            "- This IS NOT expected if you are initializing DistilBertModel from the checkpoint of a model that you expect to be exactly identical (initializing a BertForSequenceClassification model from a BertForSequenceClassification model).\n"
          ],
          "name": "stderr"
        }
      ]
    },
    {
      "cell_type": "code",
      "metadata": {
        "id": "H16RpcbMO5PP"
      },
      "source": [
        "import torch, torch.nn as nn\n",
        "import torch.nn.functional as F\n",
        "class Attention(nn.Module):\n",
        "    \"\"\"\n",
        "    Attention Network.\n",
        "    \"\"\"\n",
        "\n",
        "    def __init__(self, encoder_dim, decoder_dim, attention_dim):\n",
        "        \"\"\"\n",
        "        :param encoder_dim: feature size of encoded images\n",
        "        :param decoder_dim: size of decoder's RNN\n",
        "        :param attention_dim: size of the attention network\n",
        "        \"\"\"\n",
        "        super(Attention, self).__init__()\n",
        "        self.encoder_att = nn.Linear(encoder_dim, attention_dim)  # linear layer to transform encoded image\n",
        "        self.decoder_att = nn.Linear(decoder_dim, attention_dim)  # linear layer to transform decoder's output\n",
        "        self.full_att = nn.Linear(attention_dim, 1)  # linear layer to calculate values to be softmax-ed\n",
        "        self.relu = nn.ReLU()\n",
        "        self.softmax = nn.Softmax(dim=1)  # softmax layer to calculate weights\n",
        "\n",
        "    def forward(self, encoder_out, decoder_hidden):\n",
        "        \"\"\"\n",
        "        Forward propagation.\n",
        "        :param encoder_out: encoded images, a tensor of dimension (batch_size, num_pixels, encoder_dim)\n",
        "        :param decoder_hidden: previous decoder output, a tensor of dimension (batch_size, decoder_dim)\n",
        "        :return: attention weighted encoding, weights\n",
        "        \"\"\"\n",
        " \n",
        "        att1 = self.encoder_att(encoder_out)  # (batch_size, num_pixels, attention_dim)\n",
        "        att2 = self.decoder_att(decoder_hidden)  # (batch_size, attention_dim)\n",
        "\n",
        "        att = self.full_att(self.relu(att1 + att2.unsqueeze(1))).squeeze(2)  # (batch_size, num_pixels)\n",
        "        alpha = self.softmax(att)  # (batch_size, num_pixels)\n",
        "        attention_weighted_encoding = (encoder_out * alpha.unsqueeze(2)).sum(dim=1)  # (batch_size, encoder_dim)\n",
        "\n",
        "        return attention_weighted_encoding, alpha"
      ],
      "execution_count": 18,
      "outputs": []
    },
    {
      "cell_type": "code",
      "metadata": {
        "id": "5FAB8gdbVhI_"
      },
      "source": [
        "class CaptionNet(nn.Module):\n",
        "    def __init__(self, hidden_dim,attention_dim = 256, cnn_feature_size=2048, dropout=0.3, n_layers=2, bidirectional=False,\n",
        "                 embedding_dim= 768, vocab_size=tokenizer.vocab_size, pretrain_embeded= embed, num_pixel = 32 ):\n",
        "        super(self.__class__, self).__init__()\n",
        "        '''\n",
        "        hidden_dim: размерность скрытых состояний rnn сети \n",
        "        cnn_feature_size: размерность выхода из энкодера картинки\n",
        "        embedding_dim: размернсть эмбединга \n",
        "        n_layers количество слоев в rnn сети\n",
        "        '''\n",
        "        enc = cnn_feature_size//num_pixel\n",
        "        self.num_pixel = num_pixel \n",
        "       \n",
        "        self.attention = Attention(enc  ,hidden_dim, attention_dim)\n",
        "        self.dropout = nn.Dropout(p=dropout)\n",
        "        self.relu = nn.ReLU()\n",
        "        \n",
        "        self.embedding_dim = embedding_dim\n",
        "        self.f_beta = nn.Linear(hidden_dim, enc)  # linear layer to create a sigmoid-activated gate\n",
        "        self.sigmoid = nn.Sigmoid()\n",
        "\n",
        "        self.init_h = nn.Sequential(                # cлой для инициализации hidden state rnn сети\n",
        "            nn.Linear(cnn_feature_size, hidden_dim))\n",
        "        \n",
        "        self.init_c = nn.Sequential(               # cлой для инициализации с state rnn сети\n",
        "            nn.Linear(cnn_feature_size, hidden_dim)\n",
        "            )\n",
        "        \n",
        "        self.embedding_img = nn.Sequential(\n",
        "            nn.Linear(cnn_feature_size, hidden_dim)\n",
        "                  )\n",
        "        \n",
        "        self.embedding = pretrain_embeded\n",
        "\n",
        "        #self.rnn = nn.LSTM(embedding_dim+enc , hidden_dim, num_layers=n_layers, dropout=dropout, bidirectional=bidirectional)\n",
        "        self.rnn = nn.LSTM(embedding_dim+  hidden_dim, hidden_dim, num_layers=n_layers, dropout=dropout, bidirectional=bidirectional)\n",
        "        self.n_layers = n_layers\n",
        "        self.vocab_size = vocab_size\n",
        "        self.bidirectional = bidirectional\n",
        "        self.hidden_dim = hidden_dim\n",
        " \n",
        "        self.fc = nn.Sequential(nn.Linear(hidden_dim, hidden_dim),\n",
        "            self.dropout,\n",
        "            nn.Linear(hidden_dim, vocab_size))\n",
        "        #self.init_weights()\n",
        "\n",
        "\n",
        "    def init_hidden_state(self, encoder_out):\n",
        "        \"\"\"\n",
        "        Инициализация скрытых состояний\n",
        "        \"\"\"\n",
        "\n",
        "        h = self.init_h(encoder_out)  # (batch_size, decoder_dim)\n",
        "        c = self.init_c(encoder_out)\n",
        "        return h, c\n",
        "\n",
        "    def forward(self, image_vectors, captions_ix, mask, number_sent):\n",
        "        \"\"\"\n",
        "        image_vectors:  эмбединг картинки\n",
        "        caption_ix:  тензор с несколькими описаниями картинки\n",
        "        \"\"\"\n",
        "        batch_size = image_vectors.size(0)  # размер батча\n",
        "       \n",
        "        image_vectors = image_vectors.to(device)\n",
        "\n",
        "        captions_ix = captions_ix.to(device)\n",
        "\n",
        "        hidden, c = self.init_hidden_state(image_vectors)\n",
        "        #print(hidden.shape)\n",
        "\n",
        "        if self.bidirectional == True: # в случае bidirectional == True используется выход модели\n",
        "            count = 2\n",
        "        else:\n",
        "            count = 1\n",
        "\n",
        "        hidden = hidden.unsqueeze(0).repeat(count * self.n_layers, 1, 1)\n",
        "\n",
        "        c = c.unsqueeze(0).repeat(count * self.n_layers, 1, 1)\n",
        "\n",
        "        logits = torch.zeros(captions_ix.size(2),        # [Count_sent,N_word, batch_size, 2*embeding_dim]\n",
        "                             batch_size, self.vocab_size).to(device)\n",
        " \n",
        "        \n",
        "        \n",
        "        captions_ix = captions_ix[:,number_sent]\n",
        "        \n",
        "        img_emb = self.embedding_img(image_vectors)\n",
        "\n",
        "        image_vectors = image_vectors.reshape(batch_size,self.num_pixel,-1)\n",
        "\n",
        "        sent_emb = self.embedding(captions_ix, attention_mask =mask)['last_hidden_state'] # получаем эмбединги предложений\n",
        "\n",
        "        sent = sent_emb.permute(1,0,2) \n",
        "\n",
        "        #attention_weighted_encoding, alpha = self.attention(image_vectors, hidden[-1])\n",
        "                                    \n",
        "        #gate = self.sigmoid(self.f_beta(hidden)) \n",
        "\n",
        "        #attention_weighted_encoding = gate * attention_weighted_encoding\n",
        "\n",
        "        #attention_weighted_encoding = attention_weighted_encoding.unsqueeze(1).repeat(1,sent.size(0),1,1)[-1]\n",
        "\n",
        "        #sent = torch.cat([sent, attention_weighted_encoding], dim=2)\n",
        "        #print(sent.shape, img_emb.shape)\n",
        "        sent = torch.cat([sent, img_emb.unsqueeze(0).repeat(sent.size(0),1,1)], dim=2)\n",
        "        packed_output , (hidden, c) = self.rnn(sent, (hidden, c))\n",
        "\n",
        "        logits = self.fc(hidden[-1])\n",
        "\n",
        "        return logits #,alpha\n",
        "network = CaptionNet(hidden_dim = 128)\n",
        "\n",
        "model = network.to(device)\n",
        "\n"
      ],
      "execution_count": 52,
      "outputs": []
    },
    {
      "cell_type": "code",
      "metadata": {
        "id": "2tCFslAHVhR3",
        "colab": {
          "base_uri": "https://localhost:8080/",
          "height": 163
        },
        "outputId": "a08b1dd2-5432-419d-86c9-8767d6fd02f2"
      },
      "source": [
        "output= model(i['img_codes'] , i['inputs'], i['mask'],0)"
      ],
      "execution_count": 53,
      "outputs": [
        {
          "output_type": "error",
          "ename": "TypeError",
          "evalue": "ignored",
          "traceback": [
            "\u001b[0;31m---------------------------------------------------------------------------\u001b[0m",
            "\u001b[0;31mTypeError\u001b[0m                                 Traceback (most recent call last)",
            "\u001b[0;32m<ipython-input-53-e0fe64487f3d>\u001b[0m in \u001b[0;36m<module>\u001b[0;34m()\u001b[0m\n\u001b[0;32m----> 1\u001b[0;31m \u001b[0moutput\u001b[0m\u001b[0;34m=\u001b[0m \u001b[0mmodel\u001b[0m\u001b[0;34m(\u001b[0m\u001b[0mi\u001b[0m\u001b[0;34m[\u001b[0m\u001b[0;34m'img_codes'\u001b[0m\u001b[0;34m]\u001b[0m \u001b[0;34m,\u001b[0m \u001b[0mi\u001b[0m\u001b[0;34m[\u001b[0m\u001b[0;34m'inputs'\u001b[0m\u001b[0;34m]\u001b[0m\u001b[0;34m,\u001b[0m \u001b[0mi\u001b[0m\u001b[0;34m[\u001b[0m\u001b[0;34m'mask'\u001b[0m\u001b[0;34m]\u001b[0m\u001b[0;34m,\u001b[0m\u001b[0;36m0\u001b[0m\u001b[0;34m)\u001b[0m\u001b[0;34m\u001b[0m\u001b[0;34m\u001b[0m\u001b[0m\n\u001b[0m",
            "\u001b[0;31mTypeError\u001b[0m: 'int' object is not subscriptable"
          ]
        }
      ]
    },
    {
      "cell_type": "code",
      "metadata": {
        "id": "NOfehtc9Y6V1"
      },
      "source": [
        "class CaptionNet(nn.Module):\n",
        "    def __init__(self, hidden_dim,attention_dim = 256, cnn_feature_size=2048, dropout=0.3, n_layers=2, bidirectional=False,\n",
        "                 embedding_dim= 768, vocab_size=tokenizer.vocab_size, pretrain_embeded= embed, num_pixel = 32 ):\n",
        "        super(self.__class__, self).__init__()\n",
        "        '''\n",
        "        hidden_dim: размерность скрытых состояний rnn сети \n",
        "        cnn_feature_size: размерность выхода из энкодера картинки\n",
        "        embedding_dim: размернсть эмбединга \n",
        "        n_layers количество слоев в rnn сети\n",
        "        '''\n",
        "        enc = cnn_feature_size//num_pixel\n",
        "        self.num_pixel = num_pixel \n",
        "       \n",
        "        self.attention = Attention(enc  ,hidden_dim, attention_dim)\n",
        "        self.dropout = nn.Dropout(p=dropout)\n",
        "        self.relu = nn.ReLU()\n",
        "        \n",
        "        self.embedding_dim = embedding_dim\n",
        "        self.f_beta = nn.Linear(hidden_dim, enc)  # linear layer to create a sigmoid-activated gate\n",
        "        self.sigmoid = nn.Sigmoid()\n",
        "\n",
        "        self.init_h = nn.Sequential(                # cлой для инициализации hidden state rnn сети\n",
        "            nn.Linear(cnn_feature_size, hidden_dim))\n",
        "        \n",
        "        self.init_c = nn.Sequential(               # cлой для инициализации с state rnn сети\n",
        "            nn.Linear(cnn_feature_size, hidden_dim)\n",
        "            )\n",
        "        \n",
        "        self.embedding_img = nn.Sequential(\n",
        "            nn.Linear(cnn_feature_size, hidden_dim)\n",
        "                  )\n",
        "        \n",
        "        self.embedding = pretrain_embeded\n",
        "\n",
        "        #self.rnn = nn.LSTM(embedding_dim+enc , hidden_dim, num_layers=n_layers, dropout=dropout, bidirectional=bidirectional)\n",
        "        self.rnn = nn.LSTM(embedding_dim+  hidden_dim, hidden_dim, num_layers=n_layers, dropout=dropout, bidirectional=bidirectional)\n",
        "        self.n_layers = n_layers\n",
        "        self.vocab_size = vocab_size\n",
        "        self.bidirectional = bidirectional\n",
        "        self.hidden_dim = hidden_dim\n",
        " \n",
        "        self.fc = nn.Sequential(nn.Linear(hidden_dim, hidden_dim),\n",
        "            self.dropout,\n",
        "            nn.Linear(hidden_dim, vocab_size))\n",
        "        #self.init_weights()\n",
        "\n",
        "\n",
        "    def init_hidden_state(self, encoder_out):\n",
        "        \"\"\"\n",
        "        Инициализация скрытых состояний\n",
        "        \"\"\"\n",
        "\n",
        "        h = self.init_h(encoder_out)  # (batch_size, decoder_dim)\n",
        "        c = self.init_c(encoder_out)\n",
        "        return h, c\n",
        "\n",
        "    def forward(self, image_vectors, captions_ix, mask, number_sent):\n",
        "        \"\"\"\n",
        "        image_vectors:  эмбединг картинки\n",
        "        caption_ix:  тензор с несколькими описаниями картинки\n",
        "        \"\"\"\n",
        "        batch_size = image_vectors.size(0)  # размер батча\n",
        "       \n",
        "        image_vectors = image_vectors.to(device)\n",
        "\n",
        "        captions_ix = captions_ix.to(device)\n",
        "\n",
        "        hidden, c = self.init_hidden_state(image_vectors)\n",
        "        #print(hidden.shape)\n",
        "\n",
        "        if self.bidirectional == True: # в случае bidirectional == True используется выход модели\n",
        "            count = 2\n",
        "        else:\n",
        "            count = 1\n",
        "\n",
        "        hidden = hidden.unsqueeze(0).repeat(count * self.n_layers, 1, 1)\n",
        "\n",
        "        c = c.unsqueeze(0).repeat(count * self.n_layers, 1, 1)\n",
        "\n",
        "        logits = torch.zeros(captions_ix.size(2),        # [Count_sent,N_word, batch_size, 2*embeding_dim]\n",
        "                             batch_size, self.vocab_size).to(device)\n",
        " \n",
        "        \n",
        "        \n",
        "        captions_ix = captions_ix[:,number_sent]\n",
        "        \n",
        "        img_emb = self.embedding_img(image_vectors)\n",
        "\n",
        "        image_vectors = image_vectors.reshape(batch_size,self.num_pixel,-1)\n",
        "\n",
        "        sent_emb = self.embedding(captions_ix, attention_mask =mask)['last_hidden_state'] # получаем эмбединги предложений\n",
        "        \n",
        "        sent = sent_emb.permute(1,0,2) \n",
        "\n",
        "        #attention_weighted_encoding, alpha = self.attention(image_vectors, hidden[-1])\n",
        "                                    \n",
        "        #gate = self.sigmoid(self.f_beta(hidden)) \n",
        "\n",
        "        #attention_weighted_encoding = gate * attention_weighted_encoding\n",
        "\n",
        "        #attention_weighted_encoding = attention_weighted_encoding.unsqueeze(1).repeat(1,sent.size(0),1,1)[-1]\n",
        "\n",
        "        #sent = torch.cat([sent, attention_weighted_encoding], dim=2)\n",
        "        #print(sent.shape, img_emb.shape)\n",
        "        sent = torch.cat([sent, img_emb.unsqueeze(0).repeat(sent.size(0),1,1)], dim=2)\n",
        "        #print(torch.cat([sent[0].unsqueeze(0),sent[-1].unsqueeze(0)], dim=0).shape)\n",
        "        packed_output , (hidden, c) = self.rnn(sent, (hidden, c))\n",
        "        \n",
        "        logits = self.fc(hidden[-1])\n",
        "        #print(logits.shape)\n",
        "        return logits #,alpha\n",
        "network = CaptionNet(hidden_dim = 128)\n",
        "\n",
        "model = network.to(device)\n",
        "\n"
      ],
      "execution_count": 66,
      "outputs": []
    },
    {
      "cell_type": "code",
      "metadata": {
        "id": "S3YuKC_2bPdk",
        "colab": {
          "base_uri": "https://localhost:8080/"
        },
        "outputId": "76789954-8c8a-4481-a9a4-db75f7a9703c"
      },
      "source": [
        "output= model(i['img_codes'] , i['inputs'], i['mask'],0)\n",
        "output.shape"
      ],
      "execution_count": 64,
      "outputs": [
        {
          "output_type": "stream",
          "text": [
            "torch.Size([32, 30522])\n"
          ],
          "name": "stdout"
        },
        {
          "output_type": "execute_result",
          "data": {
            "text/plain": [
              "torch.Size([32, 30522])"
            ]
          },
          "metadata": {},
          "execution_count": 64
        }
      ]
    },
    {
      "cell_type": "markdown",
      "metadata": {
        "id": "JWb_tgOHXWj_"
      },
      "source": [
        "## Обучение"
      ]
    },
    {
      "cell_type": "code",
      "metadata": {
        "colab": {
          "base_uri": "https://localhost:8080/",
          "height": 700
        },
        "id": "6tMz1748Xunw",
        "outputId": "d79b49bc-894b-4d34-efe3-2bf112f8d57f"
      },
      "source": [
        "from IPython.display import clear_output\n",
        "import matplotlib.pyplot as plt\n",
        "#losses = {\"train_losses\": [], \"valid_losses\": []}\n",
        "import torch.optim as optim\n",
        "optimizer =  optim.AdamW(model.parameters(), lr=1e-4)# favourite one\n",
        "criterion = nn.CrossEntropyLoss(ignore_index=0)\n",
        "\n",
        "epochs = 40\n",
        "clip = 0.5\n",
        "alpha_c =1\n",
        "train_history=[]\n",
        "valid_history  = []\n",
        "best_valid_loss = float('inf')\n",
        "rep_loss_c = 0.1\n",
        "for epoch in range(epochs):\n",
        "  criterion = nn.CrossEntropyLoss(ignore_index=0)\n",
        "  print(f\"Start eposh #{epoch}\")\n",
        "  model.train()\n",
        "  history = []\n",
        "  i=0\n",
        "\n",
        "  train_loss =0\n",
        "  bath_size =0\n",
        "  for train_batch in train_loader:\n",
        "\n",
        "    captions= train_batch['inputs'].to(device)\n",
        "    input = train_batch['img_codes'].to(device)\n",
        "    mask =  train_batch['mask'].to(device)\n",
        "    full_loss=0\n",
        "    alpha_loss =0\n",
        "    \n",
        "\n",
        "    number_sent = random.randint(0,captions.size(1)-1)\n",
        "    current_step = captions[:,number_sent,0]\n",
        "    for word in range(captions.size(2)):\n",
        "        optimizer.zero_grad()\n",
        "        sents = captions[:,:,:word+1]\n",
        "        mask_id = mask[:,:word+1]\n",
        "        #print(sents.shape)\n",
        "        \n",
        "        #print( input.shape,sents.shape, mask.shape)\n",
        "        output= model(input,sents, mask_id,number_sent)\n",
        "        \n",
        "        \n",
        "        #rep_loss = (torch.argmax(output, dim =1)-current_step)\n",
        "        #rep_loss = len(rep_loss[rep_loss==0])\n",
        "        #current_step = torch.argmax(output[-1], dim =0)\n",
        "        \n",
        "        #print(output.shape, captions[:,number_sent, word+1].shape )\n",
        "        loss = criterion(output, captions[:,number_sent, word+1])\n",
        "        \n",
        "        #full_loss+=(loss+rep_loss_c*rep_loss)\n",
        "        full_loss+=loss\n",
        "        #print(alpha.shape)\n",
        "        #alpha_loss+= alpha\n",
        "        if word ==captions.size(2)-2:\n",
        "          break\n",
        "        loss.backward()\n",
        "        torch.nn.utils.clip_grad_norm_(model.parameters(), clip)\n",
        "        optimizer.step()\n",
        "    #full_loss +=  alpha_c * ((1. - alpha_loss) ** 2).mean()\n",
        "\n",
        "\n",
        "\n",
        "        \n",
        "      \n",
        "    bath_size+=1\n",
        "    train_loss += full_loss.item()/captions.size(2)\n",
        "\n",
        "    history.append(full_loss.cpu().data.numpy()/captions.size(2))\n",
        "    i+=1\n",
        "    if (i+1)%10==0:\n",
        "            fig, ax = plt.subplots(nrows=1, ncols=2, figsize=(12, 8))\n",
        "\n",
        "            clear_output(True)\n",
        "            ax[0].plot(history, label='train loss')\n",
        "            ax[0].set_xlabel('Batch')\n",
        "            ax[0].set_title('Train loss')\n",
        "            if len(train_history)>0 :\n",
        "                ax[1].plot(train_history, label='general train history')\n",
        "                ax[1].set_xlabel('Epoch')\n",
        "            if len(valid_history)>0:\n",
        "                ax[1].plot(valid_history, label='general valid history')\n",
        "\n",
        "                plt.legend()\n",
        "            sent = generate_caption(img, t=5.)[0]\n",
        "            print(Utoken(sent[0]))\n",
        "            plt.show()\n",
        "  \n",
        "  train_history.append(train_loss/bath_size)\n",
        "\n",
        "  model.eval()\n",
        "  bath_size =0 \n",
        "  val_loss=0 \n",
        "\n",
        "\n",
        "  for valid_batch in valid_loader:\n",
        "    captions= valid_batch['inputs'].to(device)\n",
        "    input = valid_batch['img_codes'].to(device)\n",
        "    mask =  valid_batch['mask'].to(device)\n",
        "    full_loss=0\n",
        "    alpha_loss =0\n",
        "    number_sent = random.randint(0,captions.size(1)-1)\n",
        "    for word in range(captions.size(2)):\n",
        "        \n",
        "        sents = captions[:,:,:word+1]\n",
        "        mask_id = mask[:,:word+1]\n",
        "        output = model(input,sents,mask_id,number_sent)\n",
        "        \n",
        "        loss = criterion(output, captions[:,number_sent, word+1])\n",
        "        alpha_loss+= alpha_c*((1. - alpha) ** 2)\n",
        "        full_loss+=loss\n",
        "        if word ==captions.size(2)-2:\n",
        "          break\n",
        "    #full_loss += alpha_loss.mean()\n",
        "    bath_size+=1\n",
        "    val_loss += full_loss.item()/captions.size(2)\n",
        "   \n",
        "\n",
        "  if val_loss < best_valid_loss:\n",
        "        best_valid_loss = val_loss\n",
        "        torch.save(model.state_dict(), '/content/gdrive/MyDrive/Colab Notebooks/project dls/best-val-model.pt')\n",
        "  valid_history.append(val_loss/bath_size)\n",
        "\n",
        "\n",
        "  print(f\"End eposh #{epoch}\")\n",
        "  \n",
        "\n"
      ],
      "execution_count": null,
      "outputs": [
        {
          "output_type": "stream",
          "text": [
            "torch.Size([1, 30522])\n",
            "torch.Size([1, 30522])\n",
            "torch.Size([1, 30522])\n",
            "torch.Size([1, 30522])\n",
            "torch.Size([1, 30522])\n",
            "torch.Size([1, 30522])\n",
            "torch.Size([1, 30522])\n",
            "torch.Size([1, 30522])\n",
            "torch.Size([1, 30522])\n",
            "torch.Size([1, 30522])\n",
            "[CLS] a a a a a a a a a man\n"
          ],
          "name": "stdout"
        },
        {
          "output_type": "display_data",
          "data": {
            "image/png": "[encoded data removed]",
            "text/plain": [
              "<Figure size 864x576 with 2 Axes>"
            ]
          },
          "metadata": {
            "needs_background": "light"
          }
        }
      ]
    },
    {
      "cell_type": "code",
      "metadata": {
        "colab": {
          "base_uri": "https://localhost:8080/"
        },
        "id": "s2KAWS93Xuri",
        "outputId": "f45c0c3c-9fdd-44b1-f5b5-08e414082b51"
      },
      "source": [
        "# загружаем inseption, чтобы можно было прогонять через него новые картинки, \n",
        "# получать их эмбеддинги и генерировать описания с помощью нашей сети\n",
        "import sys\n",
        "import os\n",
        "\n",
        "py_file_location = \"/content/gdrive/MyDrive/Colab Notebooks/project dls/\"\n",
        "sys.path.append(os.path.abspath(py_file_location))\n",
        "\n",
        "from beheaded_inception3 import  BeheadedInception3\n",
        "\n",
        "inception = BeheadedInception3().train(False)"
      ],
      "execution_count": 21,
      "outputs": [
        {
          "output_type": "stream",
          "text": [
            "/usr/local/lib/python3.7/dist-packages/torchvision/models/inception.py:82: FutureWarning: The default weight initialization of inception_v3 will be changed in future releases of torchvision. If you wish to keep the old behavior (which leads to long initialization times due to scipy/scipy#11299), please set init_weights=True.\n",
            "  ' due to scipy/scipy#11299), please set init_weights=True.', FutureWarning)\n"
          ],
          "name": "stderr"
        }
      ]
    },
    {
      "cell_type": "code",
      "metadata": {
        "id": "phEByyk-IpW3"
      },
      "source": [
        "model = CaptionNet(hidden_dim = 256)\n",
        "#device = \"cuda:0\"\n",
        "model.load_state_dict(torch.load('/content/gdrive/MyDrive/Colab Notebooks/project dls//best-val-model.pt'))\n",
        "model.to(device)"
      ],
      "execution_count": null,
      "outputs": []
    },
    {
      "cell_type": "code",
      "metadata": {
        "colab": {
          "base_uri": "https://localhost:8080/"
        },
        "id": "UmuP-fIxXuuJ",
        "outputId": "b9b1e62c-04a8-4331-c245-bef855f0ab89"
      },
      "source": [
        "#!pip install scipy==1.2.0\n",
        "from matplotlib import pyplot as plt\n",
        "#from scipy.misc import imresize\n",
        "%matplotlib inline\n",
        "import cv2\n",
        "#sample image\n",
        "!wget https://pixel.nymag.com/imgs/daily/selectall/2018/02/12/12-tony-hawk.w710.h473.jpg -O img.jpg\n",
        "#!pip install scipy==1.2.0\n",
        "img = plt.imread('img.jpg')\n",
        "#img = imresize(img, (299, 299)).astype('float32') / 255.\n",
        "img = cv2.resize(src=img,\n",
        "                       dsize=(299, 299),\n",
        "                       interpolation=cv2.INTER_CUBIC).astype('float32') / 255."
      ],
      "execution_count": 22,
      "outputs": [
        {
          "output_type": "stream",
          "text": [
            "--2021-08-19 05:15:25--  https://pixel.nymag.com/imgs/daily/selectall/2018/02/12/12-tony-hawk.w710.h473.jpg\n",
            "Resolving pixel.nymag.com (pixel.nymag.com)... 199.232.192.70, 199.232.196.70\n",
            "Connecting to pixel.nymag.com (pixel.nymag.com)|199.232.192.70|:443... connected.\n",
            "HTTP request sent, awaiting response... 301 Moved Permanently\n",
            "Location: https://pyxis.nymag.com/v1/imgs/6ac/2a6/b48d3a180f333298f5bee60ff80f4ba886-12-tony-hawk.h473.w710.jpg [following]\n",
            "--2021-08-19 05:15:25--  https://pyxis.nymag.com/v1/imgs/6ac/2a6/b48d3a180f333298f5bee60ff80f4ba886-12-tony-hawk.h473.w710.jpg\n",
            "Resolving pyxis.nymag.com (pyxis.nymag.com)... 151.101.2.217, 151.101.66.217, 151.101.130.217, ...\n",
            "Connecting to pyxis.nymag.com (pyxis.nymag.com)|151.101.2.217|:443... connected.\n",
            "HTTP request sent, awaiting response... 200 OK\n",
            "Length: 54731 (53K) [image/jpeg]\n",
            "Saving to: ‘img.jpg’\n",
            "\n",
            "img.jpg             100%[===================>]  53.45K  --.-KB/s    in 0.006s  \n",
            "\n",
            "2021-08-19 05:15:25 (8.26 MB/s) - ‘img.jpg’ saved [54731/54731]\n",
            "\n"
          ],
          "name": "stdout"
        }
      ]
    },
    {
      "cell_type": "code",
      "metadata": {
        "colab": {
          "base_uri": "https://localhost:8080/",
          "height": 286
        },
        "id": "bKVUlVuG3rNY",
        "outputId": "fea03083-8f42-4cae-eea1-12be89e3b8dc"
      },
      "source": [
        "plt.imshow(img)"
      ],
      "execution_count": 30,
      "outputs": [
        {
          "output_type": "execute_result",
          "data": {
            "text/plain": [
              "<matplotlib.image.AxesImage at 0x7f65d8500610>"
            ]
          },
          "metadata": {},
          "execution_count": 30
        },
        {
          "output_type": "display_data",
          "data": {
            "image/png": "[encoded data removed]",
            "text/plain": [
              "<Figure size 432x288 with 1 Axes>"
            ]
          },
          "metadata": {
            "needs_background": "light"
          }
        }
      ]
    },
    {
      "cell_type": "code",
      "metadata": {
        "colab": {
          "base_uri": "https://localhost:8080/"
        },
        "id": "VBo9IJFWXux6",
        "outputId": "e28821b3-a718-49c8-a187-fe3bae3d92a1"
      },
      "source": [
        "def Utoken(sent):\n",
        "    return tokenizer.convert_tokens_to_string(tokenizer.convert_ids_to_tokens(sent))\n",
        "\n",
        "def generate_caption(image, caption_prefix=[101], \n",
        "                     t=1, sample=True, max_len=10):\n",
        "    assert isinstance(image, np.ndarray) and np.max(image) <= 1\\\n",
        "           and np.min(image) >=0 and image.shape[-1] == 3\n",
        "    #device ='cpu'\n",
        "    \n",
        "    with torch.no_grad():\n",
        "        image = torch.tensor(image.transpose([2, 0, 1]), dtype=torch.float32)\n",
        "        vectors_8x8, vectors_neck, logits = inception(image[None])\n",
        "\n",
        "        caption_prefix = list(caption_prefix)  \n",
        "        words =[]    \n",
        "        model.to(device)      \n",
        "        \n",
        "\n",
        "        input = torch.tensor(caption_prefix).unsqueeze(0).unsqueeze(0).to(device)\n",
        "\n",
        "        for k in range(max_len):\n",
        "            #print(vectors_neck.shape,input.shape)\n",
        "            mask = torch.ones(input.size(2)).to(device)\n",
        "            output= model(vectors_neck, input, mask,0)\n",
        "            print(output.shape)\n",
        "            words = torch.tensor([]).to(device)\n",
        "           \n",
        "            word = torch.argmax(output)\n",
        "            #print(word.unsqueeze(0).unsqueeze(1).unsqueeze(1).shape, input.shape)\n",
        "            input = torch.cat((input,word.unsqueeze(0).unsqueeze(1).unsqueeze(1).to(torch.int)), dim=2)\n",
        "            #print(word.unsqueeze(0).unsqueeze(1).unsqueeze(1).shape, input.shape)\n",
        "            if word==102:\n",
        "              return input\n",
        "              \n",
        "\n",
        "        return input\n",
        "\n",
        "\n",
        "sent = generate_caption(img, t=5.)[0]\n",
        "\n",
        "print(Utoken(sent[0]))\n"
      ],
      "execution_count": 23,
      "outputs": [
        {
          "output_type": "stream",
          "text": [
            "/content/gdrive/MyDrive/Colab Notebooks/project dls/beheaded_inception3.py:16: UserWarning: Input isn't transformed\n",
            "  else: warn(\"Input isn't transformed\")\n",
            "/usr/local/lib/python3.7/dist-packages/torch/nn/functional.py:718: UserWarning: Named tensors and all their associated APIs are an experimental feature and subject to change. Please do not use them for anything important until they are released as stable. (Triggered internally at  /pytorch/c10/core/TensorImpl.h:1156.)\n",
            "  return torch.max_pool2d(input, kernel_size, stride, padding, dilation, ceil_mode)\n"
          ],
          "name": "stderr"
        },
        {
          "output_type": "stream",
          "text": [
            "torch.Size([1, 30522])\n",
            "torch.Size([1, 30522])\n",
            "torch.Size([1, 30522])\n",
            "torch.Size([1, 30522])\n",
            "torch.Size([1, 30522])\n",
            "torch.Size([1, 30522])\n",
            "torch.Size([1, 30522])\n",
            "torch.Size([1, 30522])\n",
            "torch.Size([1, 30522])\n",
            "torch.Size([1, 30522])\n",
            "[CLS]ø a morrow talking a a a a vogue whimper\n"
          ],
          "name": "stdout"
        }
      ]
    },
    {
      "cell_type": "code",
      "metadata": {
        "id": "v-MPOxDPXu28"
      },
      "source": [
        ""
      ],
      "execution_count": null,
      "outputs": []
    },
    {
      "cell_type": "code",
      "metadata": {
        "id": "ushSdQf8VhLw"
      },
      "source": [
        ""
      ],
      "execution_count": null,
      "outputs": []
    },
    {
      "cell_type": "code",
      "metadata": {
        "id": "Bz9vX656W9jw"
      },
      "source": [
        ""
      ],
      "execution_count": null,
      "outputs": []
    }
  ]
}